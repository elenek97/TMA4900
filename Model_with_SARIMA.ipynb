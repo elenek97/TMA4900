{
  "nbformat": 4,
  "nbformat_minor": 0,
  "metadata": {
    "colab": {
      "name": "Model_with_SARIMA.ipynb",
      "provenance": [],
      "machine_shape": "hm",
      "authorship_tag": "ABX9TyPgHWuaBCFTXdctRE9SYLLh",
      "include_colab_link": true
    },
    "kernelspec": {
      "name": "python3",
      "display_name": "Python 3"
    },
    "language_info": {
      "name": "python"
    }
  },
  "cells": [
    {
      "cell_type": "markdown",
      "metadata": {
        "id": "view-in-github",
        "colab_type": "text"
      },
      "source": [
        "<a href=\"https://colab.research.google.com/github/elenek97/TMA4900/blob/main/Model_with_SARIMA.ipynb\" target=\"_parent\"><img src=\"https://colab.research.google.com/assets/colab-badge.svg\" alt=\"Open In Colab\"/></a>"
      ]
    },
    {
      "cell_type": "markdown",
      "metadata": {
        "id": "smTimxm-dRKg"
      },
      "source": [
        "#Forecast time series using SARIMA"
      ]
    },
    {
      "cell_type": "code",
      "metadata": {
        "id": "w9P9Ne_0LBQ6",
        "colab": {
          "base_uri": "https://localhost:8080/"
        },
        "outputId": "ecb63df7-29aa-4c29-e409-a5003ee47e67"
      },
      "source": [
        "! pip install --quiet pmdarima\n",
        "! pip install impyute"
      ],
      "execution_count": 176,
      "outputs": [
        {
          "output_type": "stream",
          "text": [
            "Requirement already satisfied: impyute in /usr/local/lib/python3.7/dist-packages (0.0.8)\n",
            "Requirement already satisfied: scikit-learn in /usr/local/lib/python3.7/dist-packages (from impyute) (0.22.2.post1)\n",
            "Requirement already satisfied: numpy in /usr/local/lib/python3.7/dist-packages (from impyute) (1.19.5)\n",
            "Requirement already satisfied: scipy in /usr/local/lib/python3.7/dist-packages (from impyute) (1.4.1)\n",
            "Requirement already satisfied: joblib>=0.11 in /usr/local/lib/python3.7/dist-packages (from scikit-learn->impyute) (1.0.1)\n"
          ],
          "name": "stdout"
        }
      ]
    },
    {
      "cell_type": "code",
      "metadata": {
        "id": "cpi5DvblH13m"
      },
      "source": [
        "%matplotlib inline\n",
        "from pylab import rcParams\n",
        "import statsmodels.api as sm\n",
        "import matplotlib\n",
        "import pmdarima as pm\n",
        "from pmdarima import auto_arima\n",
        "import statsmodels\n",
        "from pandas.plotting import autocorrelation_plot\n",
        "from statsmodels.graphics.tsaplots import plot_acf, plot_pacf\n",
        "from statsmodels.tsa.stattools import adfuller\n",
        "from IPython.display import clear_output\n",
        "import matplotlib\n",
        "import numpy as np\n",
        "import pandas as pd\n",
        "import sklearn\n",
        "import torch\n",
        "import matplotlib.pyplot as plt\n",
        "from google.colab import files\n",
        "from google.colab import drive\n",
        "import random"
      ],
      "execution_count": 177,
      "outputs": []
    },
    {
      "cell_type": "code",
      "metadata": {
        "colab": {
          "base_uri": "https://localhost:8080/"
        },
        "id": "U85LA7SVKm1J",
        "outputId": "ddd0ff1b-f072-4b5a-912a-5cba43730d6f"
      },
      "source": [
        "from google.colab import drive\n",
        "drive.mount('/content/gdrive')"
      ],
      "execution_count": 178,
      "outputs": [
        {
          "output_type": "stream",
          "text": [
            "Drive already mounted at /content/gdrive; to attempt to forcibly remount, call drive.mount(\"/content/gdrive\", force_remount=True).\n"
          ],
          "name": "stdout"
        }
      ]
    },
    {
      "cell_type": "markdown",
      "metadata": {
        "id": "du1kimMR_jol"
      },
      "source": [
        "## Electricity dataset"
      ]
    },
    {
      "cell_type": "code",
      "metadata": {
        "id": "HeCCGTzF_XuY"
      },
      "source": [
        "df1 = pd.read_csv(\"/content/gdrive/MyDrive/ElectricityData/AEP_hourly.csv\").drop(['Datetime'], axis=1)\n",
        "df2 = pd.read_csv(\"/content/gdrive/MyDrive/ElectricityData/NI_hourly.csv\").drop(['Datetime'], axis=1)\n",
        "df3 = pd.read_csv(\"/content/gdrive/MyDrive/ElectricityData/COMED_hourly.csv\").drop(['Datetime'], axis=1)\n",
        "df4 = pd.read_csv(\"/content/gdrive/MyDrive/ElectricityData/DAYTON_hourly.csv\").drop(['Datetime'], axis=1)\n",
        "df5 = pd.read_csv(\"/content/gdrive/MyDrive/ElectricityData/DEOK_hourly.csv\").drop(['Datetime'], axis=1)\n",
        "df6 = pd.read_csv(\"/content/gdrive/MyDrive/ElectricityData/DOM_hourly.csv\").drop(['Datetime'], axis=1)\n",
        "df7 = pd.read_csv(\"/content/gdrive/MyDrive/ElectricityData/DUQ_hourly.csv\").drop(['Datetime'], axis=1)\n",
        "df8 = pd.read_csv(\"/content/gdrive/MyDrive/ElectricityData/EKPC_hourly.csv\").drop(['Datetime'], axis=1)\n",
        "df9 = pd.read_csv(\"/content/gdrive/MyDrive/ElectricityData/FE_hourly.csv\").drop(['Datetime'], axis=1)\n",
        "df10 = pd.read_csv(\"/content/gdrive/MyDrive/ElectricityData/PJME_hourly.csv\").drop(['Datetime'], axis=1)"
      ],
      "execution_count": 179,
      "outputs": []
    },
    {
      "cell_type": "markdown",
      "metadata": {
        "id": "mGfvBTIyKFXQ"
      },
      "source": [
        "# Sarima dataset"
      ]
    },
    {
      "cell_type": "code",
      "metadata": {
        "id": "CnUeWl-K_fff"
      },
      "source": [
        "sarima=pd.read_csv(\"/content/gdrive/MyDrive/Master/differentsarimasimulations.csv\")"
      ],
      "execution_count": 180,
      "outputs": []
    },
    {
      "cell_type": "code",
      "metadata": {
        "id": "gzLA8t_wLUYn"
      },
      "source": [
        "sarima = sarima.drop('Unnamed: 0', axis=1)"
      ],
      "execution_count": 181,
      "outputs": []
    },
    {
      "cell_type": "code",
      "metadata": {
        "id": "UNKReMoGNPhP"
      },
      "source": [
        "columns = train_data.columns"
      ],
      "execution_count": 182,
      "outputs": []
    },
    {
      "cell_type": "markdown",
      "metadata": {
        "id": "jeIi2JIMZMD6"
      },
      "source": [
        "## Missing value simulation"
      ]
    },
    {
      "cell_type": "code",
      "metadata": {
        "id": "VA6UmI3ZZLuP"
      },
      "source": [
        "import scipy\n",
        "import impyute\n",
        "\n",
        "def simulate_missing(data, missing_rate):\n",
        "  columns=data.columns\n",
        "  miss_data = []\n",
        "  for i in range(len(columns)):\n",
        "    expand = missing_rate * np.ones(len(data[columns[i]]))\n",
        "    mask = np.random.binomial(n=1, p=expand, size=len(expand))\n",
        "    remove = 1. - mask\n",
        "    miss_x = remove * data[columns[i]]\n",
        "    for j in range(len(mask)):\n",
        "      if mask[j]==1:\n",
        "        miss_x[j]=np.nan\n",
        "    miss_data.append(miss_x)\n",
        "  return np.array(miss_data)"
      ],
      "execution_count": 184,
      "outputs": []
    },
    {
      "cell_type": "code",
      "metadata": {
        "id": "qlGZjj7WhNtb"
      },
      "source": [
        "random.seed(1)\n",
        "#decide amountof missing values\n",
        "missing_ratio=0.5\n",
        "sim = simulate_missing(sarima, missing_ratio)\n",
        "#LOCF imputation\n",
        "impute_missing = impyute.locf(sim)\n",
        "df = pd.DataFrame(impute_missing)\n",
        "df.columns=sarima.columns"
      ],
      "execution_count": 187,
      "outputs": []
    },
    {
      "cell_type": "code",
      "metadata": {
        "colab": {
          "base_uri": "https://localhost:8080/"
        },
        "id": "iXXtxOC4nJH4",
        "outputId": "0e9053e3-f28a-4593-c46f-6f71ee46110f"
      },
      "source": [
        "df.isnull().sum().sum()"
      ],
      "execution_count": 188,
      "outputs": [
        {
          "output_type": "execute_result",
          "data": {
            "text/plain": [
              "0"
            ]
          },
          "metadata": {
            "tags": []
          },
          "execution_count": 188
        }
      ]
    },
    {
      "cell_type": "markdown",
      "metadata": {
        "id": "3GAkBdnhZPRg"
      },
      "source": [
        "## forecast and model selection"
      ]
    },
    {
      "cell_type": "code",
      "metadata": {
        "id": "-4z3-vWuKbYH"
      },
      "source": [
        "from statsmodels.tsa.statespace.sarimax import SARIMAX\n",
        "from random import random\n",
        "\n",
        "def SARIMAmodel(data):\n",
        "  columns=data.columns\n",
        "  predictions = [] #store prediction for each time series\n",
        "  for i in range(len(columns)): #for each time series\n",
        "    forecast_index = 45 #first index to predict\n",
        "    #find model\n",
        "    best_model = pm.auto_arima(data[columns[i]], test='adf', stepwise=True, seasonal=True)\n",
        "    #print(best_model.summary())\n",
        "    #forecast\n",
        "    ts_forecast = [] #predictions for one time series\n",
        "    for timestep in range(forecast_index,len(data[columns[i]])):\n",
        "      best_model.fit(data[columns[i]][:timestep]) \n",
        "      preds = best_model.predict(n_periods=1) #one step ahead forecast\n",
        "      ts_forecast.append(preds)\n",
        "\n",
        "    predictions.append(ts_forecast)\n",
        "    \n",
        "  return predictions"
      ],
      "execution_count": 190,
      "outputs": []
    },
    {
      "cell_type": "markdown",
      "metadata": {
        "id": "qr6SWCc2G6sC"
      },
      "source": [
        ""
      ]
    },
    {
      "cell_type": "code",
      "metadata": {
        "id": "O3rD9Fs4CrIS"
      },
      "source": [
        "sarima_0 = SARIMAmodel(df)"
      ],
      "execution_count": 191,
      "outputs": []
    },
    {
      "cell_type": "code",
      "metadata": {
        "id": "mJ6ARPvQQ81f"
      },
      "source": [
        "test_data = sarima[-5:] #last five values\n",
        "test_data_noindex = test_data.reset_index()\n",
        "test_data=test_data_noindex.drop(['index'], axis=1)\n",
        "test_data_flattened = []\n",
        "for i in range(len(columns)):\n",
        "  test_data_flattened.append(test_data[columns[i]].tolist())\n",
        "  #flatten to plot\n",
        "test_data_flattened = sum(test_data_flattened,[])\n",
        "sarima_0_flat = sum(sarima_0, [])\n"
      ],
      "execution_count": 192,
      "outputs": []
    },
    {
      "cell_type": "code",
      "metadata": {
        "colab": {
          "base_uri": "https://localhost:8080/"
        },
        "id": "t3mf0QSc-ZgG",
        "outputId": "6421090b-610e-47ef-c695-f115c98a0810"
      },
      "source": [
        "#calculate mse\n",
        "mse = sklearn.metrics.mean_squared_error( np.array(test_data_flattened),np.array(sarima_0_flat))\n",
        "print(mse)"
      ],
      "execution_count": 193,
      "outputs": [
        {
          "output_type": "stream",
          "text": [
            "303956.1720163988\n"
          ],
          "name": "stdout"
        }
      ]
    },
    {
      "cell_type": "code",
      "metadata": {
        "colab": {
          "base_uri": "https://localhost:8080/",
          "height": 283
        },
        "id": "EVr4qAesWPdl",
        "outputId": "b3b340a3-34d6-495f-8819-b90e12163dd6"
      },
      "source": [
        "#plot predictions\n",
        "plt.figure()\n",
        "plt.plot(test_data_flattened[:5])\n",
        "plt.plot(sarima_0_flat[:5])"
      ],
      "execution_count": 194,
      "outputs": [
        {
          "output_type": "execute_result",
          "data": {
            "text/plain": [
              "[<matplotlib.lines.Line2D at 0x7fc6e3bf9710>]"
            ]
          },
          "metadata": {
            "tags": []
          },
          "execution_count": 194
        },
        {
          "output_type": "display_data",
          "data": {
            "image/png": "[encoded data removed]",
            "text/plain": [
              "<Figure size 432x288 with 1 Axes>"
            ]
          },
          "metadata": {
            "tags": [],
            "needs_background": "light"
          }
        }
      ]
    },
    {
      "cell_type": "code",
      "metadata": {
        "colab": {
          "base_uri": "https://localhost:8080/",
          "height": 282
        },
        "id": "aOv8YfbHyZME",
        "outputId": "c6f2e37a-69e2-4825-f89c-0f39cc7fdf72"
      },
      "source": [
        "#plot predictions\n",
        "plt.figure()\n",
        "plt.plot(test_data_flattened[-5:])\n",
        "plt.plot(sarima_0_flat[-5:])"
      ],
      "execution_count": 195,
      "outputs": [
        {
          "output_type": "execute_result",
          "data": {
            "text/plain": [
              "[<matplotlib.lines.Line2D at 0x7fc6ef925110>]"
            ]
          },
          "metadata": {
            "tags": []
          },
          "execution_count": 195
        },
        {
          "output_type": "display_data",
          "data": {
            "image/png": "[encoded data removed]",
            "text/plain": [
              "<Figure size 432x288 with 1 Axes>"
            ]
          },
          "metadata": {
            "tags": [],
            "needs_background": "light"
          }
        }
      ]
    },
    {
      "cell_type": "markdown",
      "metadata": {
        "id": "x3o1Sq6mereB"
      },
      "source": [
        "### Results after running the program for the missing ratios listed in missing_ratios"
      ]
    },
    {
      "cell_type": "code",
      "metadata": {
        "colab": {
          "base_uri": "https://localhost:8080/",
          "height": 282
        },
        "id": "zQi0UxMOmYiR",
        "outputId": "40a0fa4a-c878-4659-a6cb-46cc3615c005"
      },
      "source": [
        "missing_ratios = [0, 0.02, 0.05, 0.1, 0.2, 0.5]\n",
        "mses = [193530.85546402706, 195273.84447129458, 191427.73312534904, 204116.69457762703, 203803.37006157375, 254375.2050154003]\n",
        "plt.plot(missing_ratios, mses)"
      ],
      "execution_count": 196,
      "outputs": [
        {
          "output_type": "execute_result",
          "data": {
            "text/plain": [
              "[<matplotlib.lines.Line2D at 0x7fc6ef671f50>]"
            ]
          },
          "metadata": {
            "tags": []
          },
          "execution_count": 196
        },
        {
          "output_type": "display_data",
          "data": {
            "image/png": "[encoded data removed]",
            "text/plain": [
              "<Figure size 432x288 with 1 Axes>"
            ]
          },
          "metadata": {
            "tags": [],
            "needs_background": "light"
          }
        }
      ]
    }
  ]
}