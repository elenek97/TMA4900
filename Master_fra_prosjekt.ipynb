{
  "nbformat": 4,
  "nbformat_minor": 0,
  "metadata": {
    "accelerator": "GPU",
    "colab": {
      "name": "Master- fra prosjekt",
      "provenance": [],
      "collapsed_sections": [],
      "toc_visible": true,
      "include_colab_link": true
    },
    "kernelspec": {
      "display_name": "Python 3",
      "name": "python3"
    },
    "widgets": {
      "application/vnd.jupyter.widget-state+json": {
        "6a269a2a3872489e96b829a4d45d17aa": {
          "model_module": "@jupyter-widgets/controls",
          "model_name": "HBoxModel",
          "state": {
            "_view_name": "HBoxView",
            "_dom_classes": [],
            "_model_name": "HBoxModel",
            "_view_module": "@jupyter-widgets/controls",
            "_model_module_version": "1.5.0",
            "_view_count": null,
            "_view_module_version": "1.5.0",
            "box_style": "",
            "layout": "IPY_MODEL_e3af4fc9d517404584995205d03b255d",
            "_model_module": "@jupyter-widgets/controls",
            "children": [
              "IPY_MODEL_788d419fded348ceb8de1863b1277c82",
              "IPY_MODEL_ee1e5941b6564605a7d0a53de37a94bb"
            ]
          }
        },
        "e3af4fc9d517404584995205d03b255d": {
          "model_module": "@jupyter-widgets/base",
          "model_name": "LayoutModel",
          "state": {
            "_view_name": "LayoutView",
            "grid_template_rows": null,
            "right": null,
            "justify_content": null,
            "_view_module": "@jupyter-widgets/base",
            "overflow": null,
            "_model_module_version": "1.2.0",
            "_view_count": null,
            "flex_flow": "row wrap",
            "width": "100%",
            "min_width": null,
            "border": null,
            "align_items": null,
            "bottom": null,
            "_model_module": "@jupyter-widgets/base",
            "top": null,
            "grid_column": null,
            "overflow_y": null,
            "overflow_x": null,
            "grid_auto_flow": null,
            "grid_area": null,
            "grid_template_columns": null,
            "flex": null,
            "_model_name": "LayoutModel",
            "justify_items": null,
            "grid_row": null,
            "max_height": null,
            "align_content": null,
            "visibility": null,
            "align_self": null,
            "height": null,
            "min_height": null,
            "padding": null,
            "grid_auto_rows": null,
            "grid_gap": null,
            "max_width": null,
            "order": null,
            "_view_module_version": "1.2.0",
            "grid_template_areas": null,
            "object_position": null,
            "object_fit": null,
            "grid_auto_columns": null,
            "margin": null,
            "display": "inline-flex",
            "left": null
          }
        },
        "788d419fded348ceb8de1863b1277c82": {
          "model_module": "@jupyter-widgets/controls",
          "model_name": "FloatProgressModel",
          "state": {
            "_view_name": "ProgressView",
            "style": "IPY_MODEL_ef974b3dae0c464dbd7730abe7e20393",
            "_dom_classes": [],
            "description": "Validation sanity check:   0%",
            "_model_name": "FloatProgressModel",
            "bar_style": "danger",
            "max": 2,
            "_view_module": "@jupyter-widgets/controls",
            "_model_module_version": "1.5.0",
            "value": 0,
            "_view_count": null,
            "_view_module_version": "1.5.0",
            "orientation": "horizontal",
            "min": 0,
            "description_tooltip": null,
            "_model_module": "@jupyter-widgets/controls",
            "layout": "IPY_MODEL_eaa0a17ca4f341cb87b8dba58f6c3c65"
          }
        },
        "ee1e5941b6564605a7d0a53de37a94bb": {
          "model_module": "@jupyter-widgets/controls",
          "model_name": "HTMLModel",
          "state": {
            "_view_name": "HTMLView",
            "style": "IPY_MODEL_c80cca1176ee491eac77764a3057db1f",
            "_dom_classes": [],
            "description": "",
            "_model_name": "HTMLModel",
            "placeholder": "​",
            "_view_module": "@jupyter-widgets/controls",
            "_model_module_version": "1.5.0",
            "value": " 0/2 [00:01&lt;?, ?it/s]",
            "_view_count": null,
            "_view_module_version": "1.5.0",
            "description_tooltip": null,
            "_model_module": "@jupyter-widgets/controls",
            "layout": "IPY_MODEL_00bc0e946c6a4521b7c8f9a7a5fb999b"
          }
        },
        "ef974b3dae0c464dbd7730abe7e20393": {
          "model_module": "@jupyter-widgets/controls",
          "model_name": "ProgressStyleModel",
          "state": {
            "_view_name": "StyleView",
            "_model_name": "ProgressStyleModel",
            "description_width": "initial",
            "_view_module": "@jupyter-widgets/base",
            "_model_module_version": "1.5.0",
            "_view_count": null,
            "_view_module_version": "1.2.0",
            "bar_color": null,
            "_model_module": "@jupyter-widgets/controls"
          }
        },
        "eaa0a17ca4f341cb87b8dba58f6c3c65": {
          "model_module": "@jupyter-widgets/base",
          "model_name": "LayoutModel",
          "state": {
            "_view_name": "LayoutView",
            "grid_template_rows": null,
            "right": null,
            "justify_content": null,
            "_view_module": "@jupyter-widgets/base",
            "overflow": null,
            "_model_module_version": "1.2.0",
            "_view_count": null,
            "flex_flow": null,
            "width": null,
            "min_width": null,
            "border": null,
            "align_items": null,
            "bottom": null,
            "_model_module": "@jupyter-widgets/base",
            "top": null,
            "grid_column": null,
            "overflow_y": null,
            "overflow_x": null,
            "grid_auto_flow": null,
            "grid_area": null,
            "grid_template_columns": null,
            "flex": "2",
            "_model_name": "LayoutModel",
            "justify_items": null,
            "grid_row": null,
            "max_height": null,
            "align_content": null,
            "visibility": null,
            "align_self": null,
            "height": null,
            "min_height": null,
            "padding": null,
            "grid_auto_rows": null,
            "grid_gap": null,
            "max_width": null,
            "order": null,
            "_view_module_version": "1.2.0",
            "grid_template_areas": null,
            "object_position": null,
            "object_fit": null,
            "grid_auto_columns": null,
            "margin": null,
            "display": null,
            "left": null
          }
        },
        "c80cca1176ee491eac77764a3057db1f": {
          "model_module": "@jupyter-widgets/controls",
          "model_name": "DescriptionStyleModel",
          "state": {
            "_view_name": "StyleView",
            "_model_name": "DescriptionStyleModel",
            "description_width": "",
            "_view_module": "@jupyter-widgets/base",
            "_model_module_version": "1.5.0",
            "_view_count": null,
            "_view_module_version": "1.2.0",
            "_model_module": "@jupyter-widgets/controls"
          }
        },
        "00bc0e946c6a4521b7c8f9a7a5fb999b": {
          "model_module": "@jupyter-widgets/base",
          "model_name": "LayoutModel",
          "state": {
            "_view_name": "LayoutView",
            "grid_template_rows": null,
            "right": null,
            "justify_content": null,
            "_view_module": "@jupyter-widgets/base",
            "overflow": null,
            "_model_module_version": "1.2.0",
            "_view_count": null,
            "flex_flow": null,
            "width": null,
            "min_width": null,
            "border": null,
            "align_items": null,
            "bottom": null,
            "_model_module": "@jupyter-widgets/base",
            "top": null,
            "grid_column": null,
            "overflow_y": null,
            "overflow_x": null,
            "grid_auto_flow": null,
            "grid_area": null,
            "grid_template_columns": null,
            "flex": null,
            "_model_name": "LayoutModel",
            "justify_items": null,
            "grid_row": null,
            "max_height": null,
            "align_content": null,
            "visibility": null,
            "align_self": null,
            "height": null,
            "min_height": null,
            "padding": null,
            "grid_auto_rows": null,
            "grid_gap": null,
            "max_width": null,
            "order": null,
            "_view_module_version": "1.2.0",
            "grid_template_areas": null,
            "object_position": null,
            "object_fit": null,
            "grid_auto_columns": null,
            "margin": null,
            "display": null,
            "left": null
          }
        },
        "e070a1deb1944ec3a4139e52b115c048": {
          "model_module": "@jupyter-widgets/controls",
          "model_name": "HBoxModel",
          "state": {
            "_view_name": "HBoxView",
            "_dom_classes": [],
            "_model_name": "HBoxModel",
            "_view_module": "@jupyter-widgets/controls",
            "_model_module_version": "1.5.0",
            "_view_count": null,
            "_view_module_version": "1.5.0",
            "box_style": "",
            "layout": "IPY_MODEL_223c5b1068dc400dad48f8e1cc27ee42",
            "_model_module": "@jupyter-widgets/controls",
            "children": [
              "IPY_MODEL_9ec1c19ce4ab44928d34289d9334a0f6",
              "IPY_MODEL_b2d8bd9ac533414d97ce4f1c73c0891d"
            ]
          }
        },
        "223c5b1068dc400dad48f8e1cc27ee42": {
          "model_module": "@jupyter-widgets/base",
          "model_name": "LayoutModel",
          "state": {
            "_view_name": "LayoutView",
            "grid_template_rows": null,
            "right": null,
            "justify_content": null,
            "_view_module": "@jupyter-widgets/base",
            "overflow": null,
            "_model_module_version": "1.2.0",
            "_view_count": null,
            "flex_flow": "row wrap",
            "width": "100%",
            "min_width": null,
            "border": null,
            "align_items": null,
            "bottom": null,
            "_model_module": "@jupyter-widgets/base",
            "top": null,
            "grid_column": null,
            "overflow_y": null,
            "overflow_x": null,
            "grid_auto_flow": null,
            "grid_area": null,
            "grid_template_columns": null,
            "flex": null,
            "_model_name": "LayoutModel",
            "justify_items": null,
            "grid_row": null,
            "max_height": null,
            "align_content": null,
            "visibility": null,
            "align_self": null,
            "height": null,
            "min_height": null,
            "padding": null,
            "grid_auto_rows": null,
            "grid_gap": null,
            "max_width": null,
            "order": null,
            "_view_module_version": "1.2.0",
            "grid_template_areas": null,
            "object_position": null,
            "object_fit": null,
            "grid_auto_columns": null,
            "margin": null,
            "display": "inline-flex",
            "left": null
          }
        },
        "9ec1c19ce4ab44928d34289d9334a0f6": {
          "model_module": "@jupyter-widgets/controls",
          "model_name": "FloatProgressModel",
          "state": {
            "_view_name": "ProgressView",
            "style": "IPY_MODEL_dbba4eaaf20f4c14ad860d18cee02f80",
            "_dom_classes": [],
            "description": "Epoch 7: 100%",
            "_model_name": "FloatProgressModel",
            "bar_style": "success",
            "max": 32,
            "_view_module": "@jupyter-widgets/controls",
            "_model_module_version": "1.5.0",
            "value": 32,
            "_view_count": null,
            "_view_module_version": "1.5.0",
            "orientation": "horizontal",
            "min": 0,
            "description_tooltip": null,
            "_model_module": "@jupyter-widgets/controls",
            "layout": "IPY_MODEL_bde87a6df6664719a414a24c21cebfc3"
          }
        },
        "b2d8bd9ac533414d97ce4f1c73c0891d": {
          "model_module": "@jupyter-widgets/controls",
          "model_name": "HTMLModel",
          "state": {
            "_view_name": "HTMLView",
            "style": "IPY_MODEL_15aaa1c288f54b21b5f5513006d36522",
            "_dom_classes": [],
            "description": "",
            "_model_name": "HTMLModel",
            "placeholder": "​",
            "_view_module": "@jupyter-widgets/controls",
            "_model_module_version": "1.5.0",
            "value": " 32/32 [00:00&lt;00:00, 39.04it/s, loss=1.03, v_num=1]",
            "_view_count": null,
            "_view_module_version": "1.5.0",
            "description_tooltip": null,
            "_model_module": "@jupyter-widgets/controls",
            "layout": "IPY_MODEL_ae8fb8f408864da490c051905b17b979"
          }
        },
        "dbba4eaaf20f4c14ad860d18cee02f80": {
          "model_module": "@jupyter-widgets/controls",
          "model_name": "ProgressStyleModel",
          "state": {
            "_view_name": "StyleView",
            "_model_name": "ProgressStyleModel",
            "description_width": "initial",
            "_view_module": "@jupyter-widgets/base",
            "_model_module_version": "1.5.0",
            "_view_count": null,
            "_view_module_version": "1.2.0",
            "bar_color": null,
            "_model_module": "@jupyter-widgets/controls"
          }
        },
        "bde87a6df6664719a414a24c21cebfc3": {
          "model_module": "@jupyter-widgets/base",
          "model_name": "LayoutModel",
          "state": {
            "_view_name": "LayoutView",
            "grid_template_rows": null,
            "right": null,
            "justify_content": null,
            "_view_module": "@jupyter-widgets/base",
            "overflow": null,
            "_model_module_version": "1.2.0",
            "_view_count": null,
            "flex_flow": null,
            "width": null,
            "min_width": null,
            "border": null,
            "align_items": null,
            "bottom": null,
            "_model_module": "@jupyter-widgets/base",
            "top": null,
            "grid_column": null,
            "overflow_y": null,
            "overflow_x": null,
            "grid_auto_flow": null,
            "grid_area": null,
            "grid_template_columns": null,
            "flex": "2",
            "_model_name": "LayoutModel",
            "justify_items": null,
            "grid_row": null,
            "max_height": null,
            "align_content": null,
            "visibility": null,
            "align_self": null,
            "height": null,
            "min_height": null,
            "padding": null,
            "grid_auto_rows": null,
            "grid_gap": null,
            "max_width": null,
            "order": null,
            "_view_module_version": "1.2.0",
            "grid_template_areas": null,
            "object_position": null,
            "object_fit": null,
            "grid_auto_columns": null,
            "margin": null,
            "display": null,
            "left": null
          }
        },
        "15aaa1c288f54b21b5f5513006d36522": {
          "model_module": "@jupyter-widgets/controls",
          "model_name": "DescriptionStyleModel",
          "state": {
            "_view_name": "StyleView",
            "_model_name": "DescriptionStyleModel",
            "description_width": "",
            "_view_module": "@jupyter-widgets/base",
            "_model_module_version": "1.5.0",
            "_view_count": null,
            "_view_module_version": "1.2.0",
            "_model_module": "@jupyter-widgets/controls"
          }
        },
        "ae8fb8f408864da490c051905b17b979": {
          "model_module": "@jupyter-widgets/base",
          "model_name": "LayoutModel",
          "state": {
            "_view_name": "LayoutView",
            "grid_template_rows": null,
            "right": null,
            "justify_content": null,
            "_view_module": "@jupyter-widgets/base",
            "overflow": null,
            "_model_module_version": "1.2.0",
            "_view_count": null,
            "flex_flow": null,
            "width": null,
            "min_width": null,
            "border": null,
            "align_items": null,
            "bottom": null,
            "_model_module": "@jupyter-widgets/base",
            "top": null,
            "grid_column": null,
            "overflow_y": null,
            "overflow_x": null,
            "grid_auto_flow": null,
            "grid_area": null,
            "grid_template_columns": null,
            "flex": null,
            "_model_name": "LayoutModel",
            "justify_items": null,
            "grid_row": null,
            "max_height": null,
            "align_content": null,
            "visibility": null,
            "align_self": null,
            "height": null,
            "min_height": null,
            "padding": null,
            "grid_auto_rows": null,
            "grid_gap": null,
            "max_width": null,
            "order": null,
            "_view_module_version": "1.2.0",
            "grid_template_areas": null,
            "object_position": null,
            "object_fit": null,
            "grid_auto_columns": null,
            "margin": null,
            "display": null,
            "left": null
          }
        },
        "b066904332d445978abda57bf5877f38": {
          "model_module": "@jupyter-widgets/controls",
          "model_name": "HBoxModel",
          "state": {
            "_view_name": "HBoxView",
            "_dom_classes": [],
            "_model_name": "HBoxModel",
            "_view_module": "@jupyter-widgets/controls",
            "_model_module_version": "1.5.0",
            "_view_count": null,
            "_view_module_version": "1.5.0",
            "box_style": "",
            "layout": "IPY_MODEL_03d8368950854a359bf82c88bdb66941",
            "_model_module": "@jupyter-widgets/controls",
            "children": [
              "IPY_MODEL_11f0195d3b8940869d00d2923a218604",
              "IPY_MODEL_e4735d734a514aafa3bb0d70ec8405dc"
            ]
          }
        },
        "03d8368950854a359bf82c88bdb66941": {
          "model_module": "@jupyter-widgets/base",
          "model_name": "LayoutModel",
          "state": {
            "_view_name": "LayoutView",
            "grid_template_rows": null,
            "right": null,
            "justify_content": null,
            "_view_module": "@jupyter-widgets/base",
            "overflow": null,
            "_model_module_version": "1.2.0",
            "_view_count": null,
            "flex_flow": "row wrap",
            "width": "100%",
            "min_width": null,
            "border": null,
            "align_items": null,
            "bottom": null,
            "_model_module": "@jupyter-widgets/base",
            "top": null,
            "grid_column": null,
            "overflow_y": null,
            "overflow_x": null,
            "grid_auto_flow": null,
            "grid_area": null,
            "grid_template_columns": null,
            "flex": null,
            "_model_name": "LayoutModel",
            "justify_items": null,
            "grid_row": null,
            "max_height": null,
            "align_content": null,
            "visibility": null,
            "align_self": null,
            "height": null,
            "min_height": null,
            "padding": null,
            "grid_auto_rows": null,
            "grid_gap": null,
            "max_width": null,
            "order": null,
            "_view_module_version": "1.2.0",
            "grid_template_areas": null,
            "object_position": null,
            "object_fit": null,
            "grid_auto_columns": null,
            "margin": null,
            "display": "inline-flex",
            "left": null
          }
        },
        "11f0195d3b8940869d00d2923a218604": {
          "model_module": "@jupyter-widgets/controls",
          "model_name": "FloatProgressModel",
          "state": {
            "_view_name": "ProgressView",
            "style": "IPY_MODEL_fd2bd27103454ec7b0df09c6d1931155",
            "_dom_classes": [],
            "description": "Validating: 100%",
            "_model_name": "FloatProgressModel",
            "bar_style": "info",
            "max": 5,
            "_view_module": "@jupyter-widgets/controls",
            "_model_module_version": "1.5.0",
            "value": 5,
            "_view_count": null,
            "_view_module_version": "1.5.0",
            "orientation": "horizontal",
            "min": 0,
            "description_tooltip": null,
            "_model_module": "@jupyter-widgets/controls",
            "layout": "IPY_MODEL_ee58d0000ab545febacc50cfb5a72f36"
          }
        },
        "e4735d734a514aafa3bb0d70ec8405dc": {
          "model_module": "@jupyter-widgets/controls",
          "model_name": "HTMLModel",
          "state": {
            "_view_name": "HTMLView",
            "style": "IPY_MODEL_f0fcee93ab56467092f7ceb1d9dddaa7",
            "_dom_classes": [],
            "description": "",
            "_model_name": "HTMLModel",
            "placeholder": "​",
            "_view_module": "@jupyter-widgets/controls",
            "_model_module_version": "1.5.0",
            "value": " 5/5 [00:00&lt;00:00, 49.05it/s]",
            "_view_count": null,
            "_view_module_version": "1.5.0",
            "description_tooltip": null,
            "_model_module": "@jupyter-widgets/controls",
            "layout": "IPY_MODEL_c22fd8f06fce424d9ecc66d15c51be24"
          }
        },
        "fd2bd27103454ec7b0df09c6d1931155": {
          "model_module": "@jupyter-widgets/controls",
          "model_name": "ProgressStyleModel",
          "state": {
            "_view_name": "StyleView",
            "_model_name": "ProgressStyleModel",
            "description_width": "initial",
            "_view_module": "@jupyter-widgets/base",
            "_model_module_version": "1.5.0",
            "_view_count": null,
            "_view_module_version": "1.2.0",
            "bar_color": null,
            "_model_module": "@jupyter-widgets/controls"
          }
        },
        "ee58d0000ab545febacc50cfb5a72f36": {
          "model_module": "@jupyter-widgets/base",
          "model_name": "LayoutModel",
          "state": {
            "_view_name": "LayoutView",
            "grid_template_rows": null,
            "right": null,
            "justify_content": null,
            "_view_module": "@jupyter-widgets/base",
            "overflow": null,
            "_model_module_version": "1.2.0",
            "_view_count": null,
            "flex_flow": null,
            "width": null,
            "min_width": null,
            "border": null,
            "align_items": null,
            "bottom": null,
            "_model_module": "@jupyter-widgets/base",
            "top": null,
            "grid_column": null,
            "overflow_y": null,
            "overflow_x": null,
            "grid_auto_flow": null,
            "grid_area": null,
            "grid_template_columns": null,
            "flex": "2",
            "_model_name": "LayoutModel",
            "justify_items": null,
            "grid_row": null,
            "max_height": null,
            "align_content": null,
            "visibility": null,
            "align_self": null,
            "height": null,
            "min_height": null,
            "padding": null,
            "grid_auto_rows": null,
            "grid_gap": null,
            "max_width": null,
            "order": null,
            "_view_module_version": "1.2.0",
            "grid_template_areas": null,
            "object_position": null,
            "object_fit": null,
            "grid_auto_columns": null,
            "margin": null,
            "display": null,
            "left": null
          }
        },
        "f0fcee93ab56467092f7ceb1d9dddaa7": {
          "model_module": "@jupyter-widgets/controls",
          "model_name": "DescriptionStyleModel",
          "state": {
            "_view_name": "StyleView",
            "_model_name": "DescriptionStyleModel",
            "description_width": "",
            "_view_module": "@jupyter-widgets/base",
            "_model_module_version": "1.5.0",
            "_view_count": null,
            "_view_module_version": "1.2.0",
            "_model_module": "@jupyter-widgets/controls"
          }
        },
        "c22fd8f06fce424d9ecc66d15c51be24": {
          "model_module": "@jupyter-widgets/base",
          "model_name": "LayoutModel",
          "state": {
            "_view_name": "LayoutView",
            "grid_template_rows": null,
            "right": null,
            "justify_content": null,
            "_view_module": "@jupyter-widgets/base",
            "overflow": null,
            "_model_module_version": "1.2.0",
            "_view_count": null,
            "flex_flow": null,
            "width": null,
            "min_width": null,
            "border": null,
            "align_items": null,
            "bottom": null,
            "_model_module": "@jupyter-widgets/base",
            "top": null,
            "grid_column": null,
            "overflow_y": null,
            "overflow_x": null,
            "grid_auto_flow": null,
            "grid_area": null,
            "grid_template_columns": null,
            "flex": null,
            "_model_name": "LayoutModel",
            "justify_items": null,
            "grid_row": null,
            "max_height": null,
            "align_content": null,
            "visibility": null,
            "align_self": null,
            "height": null,
            "min_height": null,
            "padding": null,
            "grid_auto_rows": null,
            "grid_gap": null,
            "max_width": null,
            "order": null,
            "_view_module_version": "1.2.0",
            "grid_template_areas": null,
            "object_position": null,
            "object_fit": null,
            "grid_auto_columns": null,
            "margin": null,
            "display": null,
            "left": null
          }
        },
        "87ec1467edc44a01af69ab0791c8b91f": {
          "model_module": "@jupyter-widgets/controls",
          "model_name": "HBoxModel",
          "state": {
            "_view_name": "HBoxView",
            "_dom_classes": [],
            "_model_name": "HBoxModel",
            "_view_module": "@jupyter-widgets/controls",
            "_model_module_version": "1.5.0",
            "_view_count": null,
            "_view_module_version": "1.5.0",
            "box_style": "",
            "layout": "IPY_MODEL_cc6cc56802054bd881c6ea96fa2c2309",
            "_model_module": "@jupyter-widgets/controls",
            "children": [
              "IPY_MODEL_f96b131431b84ddebe44ff7d3562113d",
              "IPY_MODEL_5f9b717e06bd4a00908d4601b2712398"
            ]
          }
        },
        "cc6cc56802054bd881c6ea96fa2c2309": {
          "model_module": "@jupyter-widgets/base",
          "model_name": "LayoutModel",
          "state": {
            "_view_name": "LayoutView",
            "grid_template_rows": null,
            "right": null,
            "justify_content": null,
            "_view_module": "@jupyter-widgets/base",
            "overflow": null,
            "_model_module_version": "1.2.0",
            "_view_count": null,
            "flex_flow": "row wrap",
            "width": "100%",
            "min_width": null,
            "border": null,
            "align_items": null,
            "bottom": null,
            "_model_module": "@jupyter-widgets/base",
            "top": null,
            "grid_column": null,
            "overflow_y": null,
            "overflow_x": null,
            "grid_auto_flow": null,
            "grid_area": null,
            "grid_template_columns": null,
            "flex": null,
            "_model_name": "LayoutModel",
            "justify_items": null,
            "grid_row": null,
            "max_height": null,
            "align_content": null,
            "visibility": null,
            "align_self": null,
            "height": null,
            "min_height": null,
            "padding": null,
            "grid_auto_rows": null,
            "grid_gap": null,
            "max_width": null,
            "order": null,
            "_view_module_version": "1.2.0",
            "grid_template_areas": null,
            "object_position": null,
            "object_fit": null,
            "grid_auto_columns": null,
            "margin": null,
            "display": "inline-flex",
            "left": null
          }
        },
        "f96b131431b84ddebe44ff7d3562113d": {
          "model_module": "@jupyter-widgets/controls",
          "model_name": "FloatProgressModel",
          "state": {
            "_view_name": "ProgressView",
            "style": "IPY_MODEL_45b8b604e4174a10bb8eac5159c3f1e2",
            "_dom_classes": [],
            "description": "Validating: 100%",
            "_model_name": "FloatProgressModel",
            "bar_style": "info",
            "max": 5,
            "_view_module": "@jupyter-widgets/controls",
            "_model_module_version": "1.5.0",
            "value": 5,
            "_view_count": null,
            "_view_module_version": "1.5.0",
            "orientation": "horizontal",
            "min": 0,
            "description_tooltip": null,
            "_model_module": "@jupyter-widgets/controls",
            "layout": "IPY_MODEL_1e99de1528d942f88488a6ab7b030734"
          }
        },
        "5f9b717e06bd4a00908d4601b2712398": {
          "model_module": "@jupyter-widgets/controls",
          "model_name": "HTMLModel",
          "state": {
            "_view_name": "HTMLView",
            "style": "IPY_MODEL_24b36c5b1d89413db59fa85c1b45026b",
            "_dom_classes": [],
            "description": "",
            "_model_name": "HTMLModel",
            "placeholder": "​",
            "_view_module": "@jupyter-widgets/controls",
            "_model_module_version": "1.5.0",
            "value": " 5/5 [00:00&lt;00:00, 54.44it/s]",
            "_view_count": null,
            "_view_module_version": "1.5.0",
            "description_tooltip": null,
            "_model_module": "@jupyter-widgets/controls",
            "layout": "IPY_MODEL_8fbf061f06fa4a339944e85278804555"
          }
        },
        "45b8b604e4174a10bb8eac5159c3f1e2": {
          "model_module": "@jupyter-widgets/controls",
          "model_name": "ProgressStyleModel",
          "state": {
            "_view_name": "StyleView",
            "_model_name": "ProgressStyleModel",
            "description_width": "initial",
            "_view_module": "@jupyter-widgets/base",
            "_model_module_version": "1.5.0",
            "_view_count": null,
            "_view_module_version": "1.2.0",
            "bar_color": null,
            "_model_module": "@jupyter-widgets/controls"
          }
        },
        "1e99de1528d942f88488a6ab7b030734": {
          "model_module": "@jupyter-widgets/base",
          "model_name": "LayoutModel",
          "state": {
            "_view_name": "LayoutView",
            "grid_template_rows": null,
            "right": null,
            "justify_content": null,
            "_view_module": "@jupyter-widgets/base",
            "overflow": null,
            "_model_module_version": "1.2.0",
            "_view_count": null,
            "flex_flow": null,
            "width": null,
            "min_width": null,
            "border": null,
            "align_items": null,
            "bottom": null,
            "_model_module": "@jupyter-widgets/base",
            "top": null,
            "grid_column": null,
            "overflow_y": null,
            "overflow_x": null,
            "grid_auto_flow": null,
            "grid_area": null,
            "grid_template_columns": null,
            "flex": "2",
            "_model_name": "LayoutModel",
            "justify_items": null,
            "grid_row": null,
            "max_height": null,
            "align_content": null,
            "visibility": null,
            "align_self": null,
            "height": null,
            "min_height": null,
            "padding": null,
            "grid_auto_rows": null,
            "grid_gap": null,
            "max_width": null,
            "order": null,
            "_view_module_version": "1.2.0",
            "grid_template_areas": null,
            "object_position": null,
            "object_fit": null,
            "grid_auto_columns": null,
            "margin": null,
            "display": null,
            "left": null
          }
        },
        "24b36c5b1d89413db59fa85c1b45026b": {
          "model_module": "@jupyter-widgets/controls",
          "model_name": "DescriptionStyleModel",
          "state": {
            "_view_name": "StyleView",
            "_model_name": "DescriptionStyleModel",
            "description_width": "",
            "_view_module": "@jupyter-widgets/base",
            "_model_module_version": "1.5.0",
            "_view_count": null,
            "_view_module_version": "1.2.0",
            "_model_module": "@jupyter-widgets/controls"
          }
        },
        "8fbf061f06fa4a339944e85278804555": {
          "model_module": "@jupyter-widgets/base",
          "model_name": "LayoutModel",
          "state": {
            "_view_name": "LayoutView",
            "grid_template_rows": null,
            "right": null,
            "justify_content": null,
            "_view_module": "@jupyter-widgets/base",
            "overflow": null,
            "_model_module_version": "1.2.0",
            "_view_count": null,
            "flex_flow": null,
            "width": null,
            "min_width": null,
            "border": null,
            "align_items": null,
            "bottom": null,
            "_model_module": "@jupyter-widgets/base",
            "top": null,
            "grid_column": null,
            "overflow_y": null,
            "overflow_x": null,
            "grid_auto_flow": null,
            "grid_area": null,
            "grid_template_columns": null,
            "flex": null,
            "_model_name": "LayoutModel",
            "justify_items": null,
            "grid_row": null,
            "max_height": null,
            "align_content": null,
            "visibility": null,
            "align_self": null,
            "height": null,
            "min_height": null,
            "padding": null,
            "grid_auto_rows": null,
            "grid_gap": null,
            "max_width": null,
            "order": null,
            "_view_module_version": "1.2.0",
            "grid_template_areas": null,
            "object_position": null,
            "object_fit": null,
            "grid_auto_columns": null,
            "margin": null,
            "display": null,
            "left": null
          }
        },
        "bc373f502c3a4a5782b0446035ce237d": {
          "model_module": "@jupyter-widgets/controls",
          "model_name": "HBoxModel",
          "state": {
            "_view_name": "HBoxView",
            "_dom_classes": [],
            "_model_name": "HBoxModel",
            "_view_module": "@jupyter-widgets/controls",
            "_model_module_version": "1.5.0",
            "_view_count": null,
            "_view_module_version": "1.5.0",
            "box_style": "",
            "layout": "IPY_MODEL_0e0153c5ae6c48fba2edf35a08e19e6b",
            "_model_module": "@jupyter-widgets/controls",
            "children": [
              "IPY_MODEL_867c912b6ba64e7e9896d94352abc1e0",
              "IPY_MODEL_347d777cf727475891f4a29d7859fc84"
            ]
          }
        },
        "0e0153c5ae6c48fba2edf35a08e19e6b": {
          "model_module": "@jupyter-widgets/base",
          "model_name": "LayoutModel",
          "state": {
            "_view_name": "LayoutView",
            "grid_template_rows": null,
            "right": null,
            "justify_content": null,
            "_view_module": "@jupyter-widgets/base",
            "overflow": null,
            "_model_module_version": "1.2.0",
            "_view_count": null,
            "flex_flow": "row wrap",
            "width": "100%",
            "min_width": null,
            "border": null,
            "align_items": null,
            "bottom": null,
            "_model_module": "@jupyter-widgets/base",
            "top": null,
            "grid_column": null,
            "overflow_y": null,
            "overflow_x": null,
            "grid_auto_flow": null,
            "grid_area": null,
            "grid_template_columns": null,
            "flex": null,
            "_model_name": "LayoutModel",
            "justify_items": null,
            "grid_row": null,
            "max_height": null,
            "align_content": null,
            "visibility": null,
            "align_self": null,
            "height": null,
            "min_height": null,
            "padding": null,
            "grid_auto_rows": null,
            "grid_gap": null,
            "max_width": null,
            "order": null,
            "_view_module_version": "1.2.0",
            "grid_template_areas": null,
            "object_position": null,
            "object_fit": null,
            "grid_auto_columns": null,
            "margin": null,
            "display": "inline-flex",
            "left": null
          }
        },
        "867c912b6ba64e7e9896d94352abc1e0": {
          "model_module": "@jupyter-widgets/controls",
          "model_name": "FloatProgressModel",
          "state": {
            "_view_name": "ProgressView",
            "style": "IPY_MODEL_bdae5c12524c45cbbb8cdb509ce0f443",
            "_dom_classes": [],
            "description": "Validating: 100%",
            "_model_name": "FloatProgressModel",
            "bar_style": "info",
            "max": 5,
            "_view_module": "@jupyter-widgets/controls",
            "_model_module_version": "1.5.0",
            "value": 5,
            "_view_count": null,
            "_view_module_version": "1.5.0",
            "orientation": "horizontal",
            "min": 0,
            "description_tooltip": null,
            "_model_module": "@jupyter-widgets/controls",
            "layout": "IPY_MODEL_55be8274c9ab48d3be856edcfdbba741"
          }
        },
        "347d777cf727475891f4a29d7859fc84": {
          "model_module": "@jupyter-widgets/controls",
          "model_name": "HTMLModel",
          "state": {
            "_view_name": "HTMLView",
            "style": "IPY_MODEL_d33930e4e62c4af8b4be34164df1568e",
            "_dom_classes": [],
            "description": "",
            "_model_name": "HTMLModel",
            "placeholder": "​",
            "_view_module": "@jupyter-widgets/controls",
            "_model_module_version": "1.5.0",
            "value": " 5/5 [00:00&lt;00:00, 55.42it/s]",
            "_view_count": null,
            "_view_module_version": "1.5.0",
            "description_tooltip": null,
            "_model_module": "@jupyter-widgets/controls",
            "layout": "IPY_MODEL_46d47918955b4443bb9262f1bd95a34e"
          }
        },
        "bdae5c12524c45cbbb8cdb509ce0f443": {
          "model_module": "@jupyter-widgets/controls",
          "model_name": "ProgressStyleModel",
          "state": {
            "_view_name": "StyleView",
            "_model_name": "ProgressStyleModel",
            "description_width": "initial",
            "_view_module": "@jupyter-widgets/base",
            "_model_module_version": "1.5.0",
            "_view_count": null,
            "_view_module_version": "1.2.0",
            "bar_color": null,
            "_model_module": "@jupyter-widgets/controls"
          }
        },
        "55be8274c9ab48d3be856edcfdbba741": {
          "model_module": "@jupyter-widgets/base",
          "model_name": "LayoutModel",
          "state": {
            "_view_name": "LayoutView",
            "grid_template_rows": null,
            "right": null,
            "justify_content": null,
            "_view_module": "@jupyter-widgets/base",
            "overflow": null,
            "_model_module_version": "1.2.0",
            "_view_count": null,
            "flex_flow": null,
            "width": null,
            "min_width": null,
            "border": null,
            "align_items": null,
            "bottom": null,
            "_model_module": "@jupyter-widgets/base",
            "top": null,
            "grid_column": null,
            "overflow_y": null,
            "overflow_x": null,
            "grid_auto_flow": null,
            "grid_area": null,
            "grid_template_columns": null,
            "flex": "2",
            "_model_name": "LayoutModel",
            "justify_items": null,
            "grid_row": null,
            "max_height": null,
            "align_content": null,
            "visibility": null,
            "align_self": null,
            "height": null,
            "min_height": null,
            "padding": null,
            "grid_auto_rows": null,
            "grid_gap": null,
            "max_width": null,
            "order": null,
            "_view_module_version": "1.2.0",
            "grid_template_areas": null,
            "object_position": null,
            "object_fit": null,
            "grid_auto_columns": null,
            "margin": null,
            "display": null,
            "left": null
          }
        },
        "d33930e4e62c4af8b4be34164df1568e": {
          "model_module": "@jupyter-widgets/controls",
          "model_name": "DescriptionStyleModel",
          "state": {
            "_view_name": "StyleView",
            "_model_name": "DescriptionStyleModel",
            "description_width": "",
            "_view_module": "@jupyter-widgets/base",
            "_model_module_version": "1.5.0",
            "_view_count": null,
            "_view_module_version": "1.2.0",
            "_model_module": "@jupyter-widgets/controls"
          }
        },
        "46d47918955b4443bb9262f1bd95a34e": {
          "model_module": "@jupyter-widgets/base",
          "model_name": "LayoutModel",
          "state": {
            "_view_name": "LayoutView",
            "grid_template_rows": null,
            "right": null,
            "justify_content": null,
            "_view_module": "@jupyter-widgets/base",
            "overflow": null,
            "_model_module_version": "1.2.0",
            "_view_count": null,
            "flex_flow": null,
            "width": null,
            "min_width": null,
            "border": null,
            "align_items": null,
            "bottom": null,
            "_model_module": "@jupyter-widgets/base",
            "top": null,
            "grid_column": null,
            "overflow_y": null,
            "overflow_x": null,
            "grid_auto_flow": null,
            "grid_area": null,
            "grid_template_columns": null,
            "flex": null,
            "_model_name": "LayoutModel",
            "justify_items": null,
            "grid_row": null,
            "max_height": null,
            "align_content": null,
            "visibility": null,
            "align_self": null,
            "height": null,
            "min_height": null,
            "padding": null,
            "grid_auto_rows": null,
            "grid_gap": null,
            "max_width": null,
            "order": null,
            "_view_module_version": "1.2.0",
            "grid_template_areas": null,
            "object_position": null,
            "object_fit": null,
            "grid_auto_columns": null,
            "margin": null,
            "display": null,
            "left": null
          }
        },
        "e1a2923f1ce244b49f7ae5b7448797b2": {
          "model_module": "@jupyter-widgets/controls",
          "model_name": "HBoxModel",
          "state": {
            "_view_name": "HBoxView",
            "_dom_classes": [],
            "_model_name": "HBoxModel",
            "_view_module": "@jupyter-widgets/controls",
            "_model_module_version": "1.5.0",
            "_view_count": null,
            "_view_module_version": "1.5.0",
            "box_style": "",
            "layout": "IPY_MODEL_5bfa22716e5041498a1cc84cc2a8ca9a",
            "_model_module": "@jupyter-widgets/controls",
            "children": [
              "IPY_MODEL_c0c07414cebd4ecf8ea75e8ab86cf585",
              "IPY_MODEL_4f95d851526e488b9ed15ac62512f195"
            ]
          }
        },
        "5bfa22716e5041498a1cc84cc2a8ca9a": {
          "model_module": "@jupyter-widgets/base",
          "model_name": "LayoutModel",
          "state": {
            "_view_name": "LayoutView",
            "grid_template_rows": null,
            "right": null,
            "justify_content": null,
            "_view_module": "@jupyter-widgets/base",
            "overflow": null,
            "_model_module_version": "1.2.0",
            "_view_count": null,
            "flex_flow": "row wrap",
            "width": "100%",
            "min_width": null,
            "border": null,
            "align_items": null,
            "bottom": null,
            "_model_module": "@jupyter-widgets/base",
            "top": null,
            "grid_column": null,
            "overflow_y": null,
            "overflow_x": null,
            "grid_auto_flow": null,
            "grid_area": null,
            "grid_template_columns": null,
            "flex": null,
            "_model_name": "LayoutModel",
            "justify_items": null,
            "grid_row": null,
            "max_height": null,
            "align_content": null,
            "visibility": null,
            "align_self": null,
            "height": null,
            "min_height": null,
            "padding": null,
            "grid_auto_rows": null,
            "grid_gap": null,
            "max_width": null,
            "order": null,
            "_view_module_version": "1.2.0",
            "grid_template_areas": null,
            "object_position": null,
            "object_fit": null,
            "grid_auto_columns": null,
            "margin": null,
            "display": "inline-flex",
            "left": null
          }
        },
        "c0c07414cebd4ecf8ea75e8ab86cf585": {
          "model_module": "@jupyter-widgets/controls",
          "model_name": "FloatProgressModel",
          "state": {
            "_view_name": "ProgressView",
            "style": "IPY_MODEL_4daabf4598b4488695e54142e5d03e2f",
            "_dom_classes": [],
            "description": "Validating: 100%",
            "_model_name": "FloatProgressModel",
            "bar_style": "info",
            "max": 5,
            "_view_module": "@jupyter-widgets/controls",
            "_model_module_version": "1.5.0",
            "value": 5,
            "_view_count": null,
            "_view_module_version": "1.5.0",
            "orientation": "horizontal",
            "min": 0,
            "description_tooltip": null,
            "_model_module": "@jupyter-widgets/controls",
            "layout": "IPY_MODEL_db3b53f1a9424f4ea606ebd64fb8f874"
          }
        },
        "4f95d851526e488b9ed15ac62512f195": {
          "model_module": "@jupyter-widgets/controls",
          "model_name": "HTMLModel",
          "state": {
            "_view_name": "HTMLView",
            "style": "IPY_MODEL_cf3164f781a34b2db100847dd98bc0b9",
            "_dom_classes": [],
            "description": "",
            "_model_name": "HTMLModel",
            "placeholder": "​",
            "_view_module": "@jupyter-widgets/controls",
            "_model_module_version": "1.5.0",
            "value": " 5/5 [00:00&lt;00:00, 61.57it/s]",
            "_view_count": null,
            "_view_module_version": "1.5.0",
            "description_tooltip": null,
            "_model_module": "@jupyter-widgets/controls",
            "layout": "IPY_MODEL_714d6984bdc44b9585a610870ab38a58"
          }
        },
        "4daabf4598b4488695e54142e5d03e2f": {
          "model_module": "@jupyter-widgets/controls",
          "model_name": "ProgressStyleModel",
          "state": {
            "_view_name": "StyleView",
            "_model_name": "ProgressStyleModel",
            "description_width": "initial",
            "_view_module": "@jupyter-widgets/base",
            "_model_module_version": "1.5.0",
            "_view_count": null,
            "_view_module_version": "1.2.0",
            "bar_color": null,
            "_model_module": "@jupyter-widgets/controls"
          }
        },
        "db3b53f1a9424f4ea606ebd64fb8f874": {
          "model_module": "@jupyter-widgets/base",
          "model_name": "LayoutModel",
          "state": {
            "_view_name": "LayoutView",
            "grid_template_rows": null,
            "right": null,
            "justify_content": null,
            "_view_module": "@jupyter-widgets/base",
            "overflow": null,
            "_model_module_version": "1.2.0",
            "_view_count": null,
            "flex_flow": null,
            "width": null,
            "min_width": null,
            "border": null,
            "align_items": null,
            "bottom": null,
            "_model_module": "@jupyter-widgets/base",
            "top": null,
            "grid_column": null,
            "overflow_y": null,
            "overflow_x": null,
            "grid_auto_flow": null,
            "grid_area": null,
            "grid_template_columns": null,
            "flex": "2",
            "_model_name": "LayoutModel",
            "justify_items": null,
            "grid_row": null,
            "max_height": null,
            "align_content": null,
            "visibility": null,
            "align_self": null,
            "height": null,
            "min_height": null,
            "padding": null,
            "grid_auto_rows": null,
            "grid_gap": null,
            "max_width": null,
            "order": null,
            "_view_module_version": "1.2.0",
            "grid_template_areas": null,
            "object_position": null,
            "object_fit": null,
            "grid_auto_columns": null,
            "margin": null,
            "display": null,
            "left": null
          }
        },
        "cf3164f781a34b2db100847dd98bc0b9": {
          "model_module": "@jupyter-widgets/controls",
          "model_name": "DescriptionStyleModel",
          "state": {
            "_view_name": "StyleView",
            "_model_name": "DescriptionStyleModel",
            "description_width": "",
            "_view_module": "@jupyter-widgets/base",
            "_model_module_version": "1.5.0",
            "_view_count": null,
            "_view_module_version": "1.2.0",
            "_model_module": "@jupyter-widgets/controls"
          }
        },
        "714d6984bdc44b9585a610870ab38a58": {
          "model_module": "@jupyter-widgets/base",
          "model_name": "LayoutModel",
          "state": {
            "_view_name": "LayoutView",
            "grid_template_rows": null,
            "right": null,
            "justify_content": null,
            "_view_module": "@jupyter-widgets/base",
            "overflow": null,
            "_model_module_version": "1.2.0",
            "_view_count": null,
            "flex_flow": null,
            "width": null,
            "min_width": null,
            "border": null,
            "align_items": null,
            "bottom": null,
            "_model_module": "@jupyter-widgets/base",
            "top": null,
            "grid_column": null,
            "overflow_y": null,
            "overflow_x": null,
            "grid_auto_flow": null,
            "grid_area": null,
            "grid_template_columns": null,
            "flex": null,
            "_model_name": "LayoutModel",
            "justify_items": null,
            "grid_row": null,
            "max_height": null,
            "align_content": null,
            "visibility": null,
            "align_self": null,
            "height": null,
            "min_height": null,
            "padding": null,
            "grid_auto_rows": null,
            "grid_gap": null,
            "max_width": null,
            "order": null,
            "_view_module_version": "1.2.0",
            "grid_template_areas": null,
            "object_position": null,
            "object_fit": null,
            "grid_auto_columns": null,
            "margin": null,
            "display": null,
            "left": null
          }
        },
        "e6e81a3d414642ebbb0b42e1b8f06b9b": {
          "model_module": "@jupyter-widgets/controls",
          "model_name": "HBoxModel",
          "state": {
            "_view_name": "HBoxView",
            "_dom_classes": [],
            "_model_name": "HBoxModel",
            "_view_module": "@jupyter-widgets/controls",
            "_model_module_version": "1.5.0",
            "_view_count": null,
            "_view_module_version": "1.5.0",
            "box_style": "",
            "layout": "IPY_MODEL_c0b2dfae41b34954b324abc76cb22a12",
            "_model_module": "@jupyter-widgets/controls",
            "children": [
              "IPY_MODEL_9757537b2f3d4dbdb5788fa7c7a61d81",
              "IPY_MODEL_a5fbf11b2e8f4d19a973b95dc4482485"
            ]
          }
        },
        "c0b2dfae41b34954b324abc76cb22a12": {
          "model_module": "@jupyter-widgets/base",
          "model_name": "LayoutModel",
          "state": {
            "_view_name": "LayoutView",
            "grid_template_rows": null,
            "right": null,
            "justify_content": null,
            "_view_module": "@jupyter-widgets/base",
            "overflow": null,
            "_model_module_version": "1.2.0",
            "_view_count": null,
            "flex_flow": "row wrap",
            "width": "100%",
            "min_width": null,
            "border": null,
            "align_items": null,
            "bottom": null,
            "_model_module": "@jupyter-widgets/base",
            "top": null,
            "grid_column": null,
            "overflow_y": null,
            "overflow_x": null,
            "grid_auto_flow": null,
            "grid_area": null,
            "grid_template_columns": null,
            "flex": null,
            "_model_name": "LayoutModel",
            "justify_items": null,
            "grid_row": null,
            "max_height": null,
            "align_content": null,
            "visibility": null,
            "align_self": null,
            "height": null,
            "min_height": null,
            "padding": null,
            "grid_auto_rows": null,
            "grid_gap": null,
            "max_width": null,
            "order": null,
            "_view_module_version": "1.2.0",
            "grid_template_areas": null,
            "object_position": null,
            "object_fit": null,
            "grid_auto_columns": null,
            "margin": null,
            "display": "inline-flex",
            "left": null
          }
        },
        "9757537b2f3d4dbdb5788fa7c7a61d81": {
          "model_module": "@jupyter-widgets/controls",
          "model_name": "FloatProgressModel",
          "state": {
            "_view_name": "ProgressView",
            "style": "IPY_MODEL_6bf2443d5cfc4208bb88be96466d0613",
            "_dom_classes": [],
            "description": "Validating: 100%",
            "_model_name": "FloatProgressModel",
            "bar_style": "info",
            "max": 5,
            "_view_module": "@jupyter-widgets/controls",
            "_model_module_version": "1.5.0",
            "value": 5,
            "_view_count": null,
            "_view_module_version": "1.5.0",
            "orientation": "horizontal",
            "min": 0,
            "description_tooltip": null,
            "_model_module": "@jupyter-widgets/controls",
            "layout": "IPY_MODEL_589f6d4a39b24fb6af661927e687eea2"
          }
        },
        "a5fbf11b2e8f4d19a973b95dc4482485": {
          "model_module": "@jupyter-widgets/controls",
          "model_name": "HTMLModel",
          "state": {
            "_view_name": "HTMLView",
            "style": "IPY_MODEL_f00162f1ab4a46a49611010835dc5017",
            "_dom_classes": [],
            "description": "",
            "_model_name": "HTMLModel",
            "placeholder": "​",
            "_view_module": "@jupyter-widgets/controls",
            "_model_module_version": "1.5.0",
            "value": " 5/5 [00:00&lt;00:00, 55.22it/s]",
            "_view_count": null,
            "_view_module_version": "1.5.0",
            "description_tooltip": null,
            "_model_module": "@jupyter-widgets/controls",
            "layout": "IPY_MODEL_3661b23691d941cd8d059eaa2bb50e9f"
          }
        },
        "6bf2443d5cfc4208bb88be96466d0613": {
          "model_module": "@jupyter-widgets/controls",
          "model_name": "ProgressStyleModel",
          "state": {
            "_view_name": "StyleView",
            "_model_name": "ProgressStyleModel",
            "description_width": "initial",
            "_view_module": "@jupyter-widgets/base",
            "_model_module_version": "1.5.0",
            "_view_count": null,
            "_view_module_version": "1.2.0",
            "bar_color": null,
            "_model_module": "@jupyter-widgets/controls"
          }
        },
        "589f6d4a39b24fb6af661927e687eea2": {
          "model_module": "@jupyter-widgets/base",
          "model_name": "LayoutModel",
          "state": {
            "_view_name": "LayoutView",
            "grid_template_rows": null,
            "right": null,
            "justify_content": null,
            "_view_module": "@jupyter-widgets/base",
            "overflow": null,
            "_model_module_version": "1.2.0",
            "_view_count": null,
            "flex_flow": null,
            "width": null,
            "min_width": null,
            "border": null,
            "align_items": null,
            "bottom": null,
            "_model_module": "@jupyter-widgets/base",
            "top": null,
            "grid_column": null,
            "overflow_y": null,
            "overflow_x": null,
            "grid_auto_flow": null,
            "grid_area": null,
            "grid_template_columns": null,
            "flex": "2",
            "_model_name": "LayoutModel",
            "justify_items": null,
            "grid_row": null,
            "max_height": null,
            "align_content": null,
            "visibility": null,
            "align_self": null,
            "height": null,
            "min_height": null,
            "padding": null,
            "grid_auto_rows": null,
            "grid_gap": null,
            "max_width": null,
            "order": null,
            "_view_module_version": "1.2.0",
            "grid_template_areas": null,
            "object_position": null,
            "object_fit": null,
            "grid_auto_columns": null,
            "margin": null,
            "display": null,
            "left": null
          }
        },
        "f00162f1ab4a46a49611010835dc5017": {
          "model_module": "@jupyter-widgets/controls",
          "model_name": "DescriptionStyleModel",
          "state": {
            "_view_name": "StyleView",
            "_model_name": "DescriptionStyleModel",
            "description_width": "",
            "_view_module": "@jupyter-widgets/base",
            "_model_module_version": "1.5.0",
            "_view_count": null,
            "_view_module_version": "1.2.0",
            "_model_module": "@jupyter-widgets/controls"
          }
        },
        "3661b23691d941cd8d059eaa2bb50e9f": {
          "model_module": "@jupyter-widgets/base",
          "model_name": "LayoutModel",
          "state": {
            "_view_name": "LayoutView",
            "grid_template_rows": null,
            "right": null,
            "justify_content": null,
            "_view_module": "@jupyter-widgets/base",
            "overflow": null,
            "_model_module_version": "1.2.0",
            "_view_count": null,
            "flex_flow": null,
            "width": null,
            "min_width": null,
            "border": null,
            "align_items": null,
            "bottom": null,
            "_model_module": "@jupyter-widgets/base",
            "top": null,
            "grid_column": null,
            "overflow_y": null,
            "overflow_x": null,
            "grid_auto_flow": null,
            "grid_area": null,
            "grid_template_columns": null,
            "flex": null,
            "_model_name": "LayoutModel",
            "justify_items": null,
            "grid_row": null,
            "max_height": null,
            "align_content": null,
            "visibility": null,
            "align_self": null,
            "height": null,
            "min_height": null,
            "padding": null,
            "grid_auto_rows": null,
            "grid_gap": null,
            "max_width": null,
            "order": null,
            "_view_module_version": "1.2.0",
            "grid_template_areas": null,
            "object_position": null,
            "object_fit": null,
            "grid_auto_columns": null,
            "margin": null,
            "display": null,
            "left": null
          }
        },
        "44381ea9f0d04b6f8764e01805beff09": {
          "model_module": "@jupyter-widgets/controls",
          "model_name": "HBoxModel",
          "state": {
            "_view_name": "HBoxView",
            "_dom_classes": [],
            "_model_name": "HBoxModel",
            "_view_module": "@jupyter-widgets/controls",
            "_model_module_version": "1.5.0",
            "_view_count": null,
            "_view_module_version": "1.5.0",
            "box_style": "",
            "layout": "IPY_MODEL_5c7a18417db94362ae7e4e6378c5c159",
            "_model_module": "@jupyter-widgets/controls",
            "children": [
              "IPY_MODEL_96cb1c65a85b4ef786c084eb56804fd7",
              "IPY_MODEL_a303230076444f1a9b3664afa7e02b66"
            ]
          }
        },
        "5c7a18417db94362ae7e4e6378c5c159": {
          "model_module": "@jupyter-widgets/base",
          "model_name": "LayoutModel",
          "state": {
            "_view_name": "LayoutView",
            "grid_template_rows": null,
            "right": null,
            "justify_content": null,
            "_view_module": "@jupyter-widgets/base",
            "overflow": null,
            "_model_module_version": "1.2.0",
            "_view_count": null,
            "flex_flow": "row wrap",
            "width": "100%",
            "min_width": null,
            "border": null,
            "align_items": null,
            "bottom": null,
            "_model_module": "@jupyter-widgets/base",
            "top": null,
            "grid_column": null,
            "overflow_y": null,
            "overflow_x": null,
            "grid_auto_flow": null,
            "grid_area": null,
            "grid_template_columns": null,
            "flex": null,
            "_model_name": "LayoutModel",
            "justify_items": null,
            "grid_row": null,
            "max_height": null,
            "align_content": null,
            "visibility": null,
            "align_self": null,
            "height": null,
            "min_height": null,
            "padding": null,
            "grid_auto_rows": null,
            "grid_gap": null,
            "max_width": null,
            "order": null,
            "_view_module_version": "1.2.0",
            "grid_template_areas": null,
            "object_position": null,
            "object_fit": null,
            "grid_auto_columns": null,
            "margin": null,
            "display": "inline-flex",
            "left": null
          }
        },
        "96cb1c65a85b4ef786c084eb56804fd7": {
          "model_module": "@jupyter-widgets/controls",
          "model_name": "FloatProgressModel",
          "state": {
            "_view_name": "ProgressView",
            "style": "IPY_MODEL_2d1e8560801041d19dc8bc6a36f85134",
            "_dom_classes": [],
            "description": "Validating: 100%",
            "_model_name": "FloatProgressModel",
            "bar_style": "info",
            "max": 5,
            "_view_module": "@jupyter-widgets/controls",
            "_model_module_version": "1.5.0",
            "value": 5,
            "_view_count": null,
            "_view_module_version": "1.5.0",
            "orientation": "horizontal",
            "min": 0,
            "description_tooltip": null,
            "_model_module": "@jupyter-widgets/controls",
            "layout": "IPY_MODEL_ceeba89351184f249822ea5cc3f24f2e"
          }
        },
        "a303230076444f1a9b3664afa7e02b66": {
          "model_module": "@jupyter-widgets/controls",
          "model_name": "HTMLModel",
          "state": {
            "_view_name": "HTMLView",
            "style": "IPY_MODEL_6f8843fee45a4b808b882a5988f7a3e2",
            "_dom_classes": [],
            "description": "",
            "_model_name": "HTMLModel",
            "placeholder": "​",
            "_view_module": "@jupyter-widgets/controls",
            "_model_module_version": "1.5.0",
            "value": " 5/5 [00:00&lt;00:00, 58.82it/s]",
            "_view_count": null,
            "_view_module_version": "1.5.0",
            "description_tooltip": null,
            "_model_module": "@jupyter-widgets/controls",
            "layout": "IPY_MODEL_32d758fdb8c949549af270d77a18d601"
          }
        },
        "2d1e8560801041d19dc8bc6a36f85134": {
          "model_module": "@jupyter-widgets/controls",
          "model_name": "ProgressStyleModel",
          "state": {
            "_view_name": "StyleView",
            "_model_name": "ProgressStyleModel",
            "description_width": "initial",
            "_view_module": "@jupyter-widgets/base",
            "_model_module_version": "1.5.0",
            "_view_count": null,
            "_view_module_version": "1.2.0",
            "bar_color": null,
            "_model_module": "@jupyter-widgets/controls"
          }
        },
        "ceeba89351184f249822ea5cc3f24f2e": {
          "model_module": "@jupyter-widgets/base",
          "model_name": "LayoutModel",
          "state": {
            "_view_name": "LayoutView",
            "grid_template_rows": null,
            "right": null,
            "justify_content": null,
            "_view_module": "@jupyter-widgets/base",
            "overflow": null,
            "_model_module_version": "1.2.0",
            "_view_count": null,
            "flex_flow": null,
            "width": null,
            "min_width": null,
            "border": null,
            "align_items": null,
            "bottom": null,
            "_model_module": "@jupyter-widgets/base",
            "top": null,
            "grid_column": null,
            "overflow_y": null,
            "overflow_x": null,
            "grid_auto_flow": null,
            "grid_area": null,
            "grid_template_columns": null,
            "flex": "2",
            "_model_name": "LayoutModel",
            "justify_items": null,
            "grid_row": null,
            "max_height": null,
            "align_content": null,
            "visibility": null,
            "align_self": null,
            "height": null,
            "min_height": null,
            "padding": null,
            "grid_auto_rows": null,
            "grid_gap": null,
            "max_width": null,
            "order": null,
            "_view_module_version": "1.2.0",
            "grid_template_areas": null,
            "object_position": null,
            "object_fit": null,
            "grid_auto_columns": null,
            "margin": null,
            "display": null,
            "left": null
          }
        },
        "6f8843fee45a4b808b882a5988f7a3e2": {
          "model_module": "@jupyter-widgets/controls",
          "model_name": "DescriptionStyleModel",
          "state": {
            "_view_name": "StyleView",
            "_model_name": "DescriptionStyleModel",
            "description_width": "",
            "_view_module": "@jupyter-widgets/base",
            "_model_module_version": "1.5.0",
            "_view_count": null,
            "_view_module_version": "1.2.0",
            "_model_module": "@jupyter-widgets/controls"
          }
        },
        "32d758fdb8c949549af270d77a18d601": {
          "model_module": "@jupyter-widgets/base",
          "model_name": "LayoutModel",
          "state": {
            "_view_name": "LayoutView",
            "grid_template_rows": null,
            "right": null,
            "justify_content": null,
            "_view_module": "@jupyter-widgets/base",
            "overflow": null,
            "_model_module_version": "1.2.0",
            "_view_count": null,
            "flex_flow": null,
            "width": null,
            "min_width": null,
            "border": null,
            "align_items": null,
            "bottom": null,
            "_model_module": "@jupyter-widgets/base",
            "top": null,
            "grid_column": null,
            "overflow_y": null,
            "overflow_x": null,
            "grid_auto_flow": null,
            "grid_area": null,
            "grid_template_columns": null,
            "flex": null,
            "_model_name": "LayoutModel",
            "justify_items": null,
            "grid_row": null,
            "max_height": null,
            "align_content": null,
            "visibility": null,
            "align_self": null,
            "height": null,
            "min_height": null,
            "padding": null,
            "grid_auto_rows": null,
            "grid_gap": null,
            "max_width": null,
            "order": null,
            "_view_module_version": "1.2.0",
            "grid_template_areas": null,
            "object_position": null,
            "object_fit": null,
            "grid_auto_columns": null,
            "margin": null,
            "display": null,
            "left": null
          }
        },
        "5b55a3a326084a8abc5aa7f093e97853": {
          "model_module": "@jupyter-widgets/controls",
          "model_name": "HBoxModel",
          "state": {
            "_view_name": "HBoxView",
            "_dom_classes": [],
            "_model_name": "HBoxModel",
            "_view_module": "@jupyter-widgets/controls",
            "_model_module_version": "1.5.0",
            "_view_count": null,
            "_view_module_version": "1.5.0",
            "box_style": "",
            "layout": "IPY_MODEL_44fcd4dcb249478b936c248a94499fdb",
            "_model_module": "@jupyter-widgets/controls",
            "children": [
              "IPY_MODEL_77db3271450d4ec4ae2ba3e099b1dcae",
              "IPY_MODEL_6d36b835f642459eb764d6d936ef810c"
            ]
          }
        },
        "44fcd4dcb249478b936c248a94499fdb": {
          "model_module": "@jupyter-widgets/base",
          "model_name": "LayoutModel",
          "state": {
            "_view_name": "LayoutView",
            "grid_template_rows": null,
            "right": null,
            "justify_content": null,
            "_view_module": "@jupyter-widgets/base",
            "overflow": null,
            "_model_module_version": "1.2.0",
            "_view_count": null,
            "flex_flow": "row wrap",
            "width": "100%",
            "min_width": null,
            "border": null,
            "align_items": null,
            "bottom": null,
            "_model_module": "@jupyter-widgets/base",
            "top": null,
            "grid_column": null,
            "overflow_y": null,
            "overflow_x": null,
            "grid_auto_flow": null,
            "grid_area": null,
            "grid_template_columns": null,
            "flex": null,
            "_model_name": "LayoutModel",
            "justify_items": null,
            "grid_row": null,
            "max_height": null,
            "align_content": null,
            "visibility": null,
            "align_self": null,
            "height": null,
            "min_height": null,
            "padding": null,
            "grid_auto_rows": null,
            "grid_gap": null,
            "max_width": null,
            "order": null,
            "_view_module_version": "1.2.0",
            "grid_template_areas": null,
            "object_position": null,
            "object_fit": null,
            "grid_auto_columns": null,
            "margin": null,
            "display": "inline-flex",
            "left": null
          }
        },
        "77db3271450d4ec4ae2ba3e099b1dcae": {
          "model_module": "@jupyter-widgets/controls",
          "model_name": "FloatProgressModel",
          "state": {
            "_view_name": "ProgressView",
            "style": "IPY_MODEL_632d2ab52d92494c9fe8837464135c31",
            "_dom_classes": [],
            "description": "Validating: 100%",
            "_model_name": "FloatProgressModel",
            "bar_style": "info",
            "max": 5,
            "_view_module": "@jupyter-widgets/controls",
            "_model_module_version": "1.5.0",
            "value": 5,
            "_view_count": null,
            "_view_module_version": "1.5.0",
            "orientation": "horizontal",
            "min": 0,
            "description_tooltip": null,
            "_model_module": "@jupyter-widgets/controls",
            "layout": "IPY_MODEL_95270babeb4b4614a5924c6c73cb83f7"
          }
        },
        "6d36b835f642459eb764d6d936ef810c": {
          "model_module": "@jupyter-widgets/controls",
          "model_name": "HTMLModel",
          "state": {
            "_view_name": "HTMLView",
            "style": "IPY_MODEL_53e1643f3a5244f288986d5c709fddcc",
            "_dom_classes": [],
            "description": "",
            "_model_name": "HTMLModel",
            "placeholder": "​",
            "_view_module": "@jupyter-widgets/controls",
            "_model_module_version": "1.5.0",
            "value": " 5/5 [00:00&lt;00:00, 50.53it/s]",
            "_view_count": null,
            "_view_module_version": "1.5.0",
            "description_tooltip": null,
            "_model_module": "@jupyter-widgets/controls",
            "layout": "IPY_MODEL_02a0872592c74891a218bfb7ec9b9e16"
          }
        },
        "632d2ab52d92494c9fe8837464135c31": {
          "model_module": "@jupyter-widgets/controls",
          "model_name": "ProgressStyleModel",
          "state": {
            "_view_name": "StyleView",
            "_model_name": "ProgressStyleModel",
            "description_width": "initial",
            "_view_module": "@jupyter-widgets/base",
            "_model_module_version": "1.5.0",
            "_view_count": null,
            "_view_module_version": "1.2.0",
            "bar_color": null,
            "_model_module": "@jupyter-widgets/controls"
          }
        },
        "95270babeb4b4614a5924c6c73cb83f7": {
          "model_module": "@jupyter-widgets/base",
          "model_name": "LayoutModel",
          "state": {
            "_view_name": "LayoutView",
            "grid_template_rows": null,
            "right": null,
            "justify_content": null,
            "_view_module": "@jupyter-widgets/base",
            "overflow": null,
            "_model_module_version": "1.2.0",
            "_view_count": null,
            "flex_flow": null,
            "width": null,
            "min_width": null,
            "border": null,
            "align_items": null,
            "bottom": null,
            "_model_module": "@jupyter-widgets/base",
            "top": null,
            "grid_column": null,
            "overflow_y": null,
            "overflow_x": null,
            "grid_auto_flow": null,
            "grid_area": null,
            "grid_template_columns": null,
            "flex": "2",
            "_model_name": "LayoutModel",
            "justify_items": null,
            "grid_row": null,
            "max_height": null,
            "align_content": null,
            "visibility": null,
            "align_self": null,
            "height": null,
            "min_height": null,
            "padding": null,
            "grid_auto_rows": null,
            "grid_gap": null,
            "max_width": null,
            "order": null,
            "_view_module_version": "1.2.0",
            "grid_template_areas": null,
            "object_position": null,
            "object_fit": null,
            "grid_auto_columns": null,
            "margin": null,
            "display": null,
            "left": null
          }
        },
        "53e1643f3a5244f288986d5c709fddcc": {
          "model_module": "@jupyter-widgets/controls",
          "model_name": "DescriptionStyleModel",
          "state": {
            "_view_name": "StyleView",
            "_model_name": "DescriptionStyleModel",
            "description_width": "",
            "_view_module": "@jupyter-widgets/base",
            "_model_module_version": "1.5.0",
            "_view_count": null,
            "_view_module_version": "1.2.0",
            "_model_module": "@jupyter-widgets/controls"
          }
        },
        "02a0872592c74891a218bfb7ec9b9e16": {
          "model_module": "@jupyter-widgets/base",
          "model_name": "LayoutModel",
          "state": {
            "_view_name": "LayoutView",
            "grid_template_rows": null,
            "right": null,
            "justify_content": null,
            "_view_module": "@jupyter-widgets/base",
            "overflow": null,
            "_model_module_version": "1.2.0",
            "_view_count": null,
            "flex_flow": null,
            "width": null,
            "min_width": null,
            "border": null,
            "align_items": null,
            "bottom": null,
            "_model_module": "@jupyter-widgets/base",
            "top": null,
            "grid_column": null,
            "overflow_y": null,
            "overflow_x": null,
            "grid_auto_flow": null,
            "grid_area": null,
            "grid_template_columns": null,
            "flex": null,
            "_model_name": "LayoutModel",
            "justify_items": null,
            "grid_row": null,
            "max_height": null,
            "align_content": null,
            "visibility": null,
            "align_self": null,
            "height": null,
            "min_height": null,
            "padding": null,
            "grid_auto_rows": null,
            "grid_gap": null,
            "max_width": null,
            "order": null,
            "_view_module_version": "1.2.0",
            "grid_template_areas": null,
            "object_position": null,
            "object_fit": null,
            "grid_auto_columns": null,
            "margin": null,
            "display": null,
            "left": null
          }
        },
        "54f8f33ed3d64e18bf926bd1d5a0a363": {
          "model_module": "@jupyter-widgets/controls",
          "model_name": "HBoxModel",
          "state": {
            "_view_name": "HBoxView",
            "_dom_classes": [],
            "_model_name": "HBoxModel",
            "_view_module": "@jupyter-widgets/controls",
            "_model_module_version": "1.5.0",
            "_view_count": null,
            "_view_module_version": "1.5.0",
            "box_style": "",
            "layout": "IPY_MODEL_f3d7a3fac99042c5a6e84cea2b3631ed",
            "_model_module": "@jupyter-widgets/controls",
            "children": [
              "IPY_MODEL_6b0cccc0a76445f783c87054f114ec70",
              "IPY_MODEL_604853d7c4834c99aa702d7b00ef8fa8"
            ]
          }
        },
        "f3d7a3fac99042c5a6e84cea2b3631ed": {
          "model_module": "@jupyter-widgets/base",
          "model_name": "LayoutModel",
          "state": {
            "_view_name": "LayoutView",
            "grid_template_rows": null,
            "right": null,
            "justify_content": null,
            "_view_module": "@jupyter-widgets/base",
            "overflow": null,
            "_model_module_version": "1.2.0",
            "_view_count": null,
            "flex_flow": "row wrap",
            "width": "100%",
            "min_width": null,
            "border": null,
            "align_items": null,
            "bottom": null,
            "_model_module": "@jupyter-widgets/base",
            "top": null,
            "grid_column": null,
            "overflow_y": null,
            "overflow_x": null,
            "grid_auto_flow": null,
            "grid_area": null,
            "grid_template_columns": null,
            "flex": null,
            "_model_name": "LayoutModel",
            "justify_items": null,
            "grid_row": null,
            "max_height": null,
            "align_content": null,
            "visibility": null,
            "align_self": null,
            "height": null,
            "min_height": null,
            "padding": null,
            "grid_auto_rows": null,
            "grid_gap": null,
            "max_width": null,
            "order": null,
            "_view_module_version": "1.2.0",
            "grid_template_areas": null,
            "object_position": null,
            "object_fit": null,
            "grid_auto_columns": null,
            "margin": null,
            "display": "inline-flex",
            "left": null
          }
        },
        "6b0cccc0a76445f783c87054f114ec70": {
          "model_module": "@jupyter-widgets/controls",
          "model_name": "FloatProgressModel",
          "state": {
            "_view_name": "ProgressView",
            "style": "IPY_MODEL_9367270812d7427a94cb8847a35d0238",
            "_dom_classes": [],
            "description": "Validating: 100%",
            "_model_name": "FloatProgressModel",
            "bar_style": "info",
            "max": 5,
            "_view_module": "@jupyter-widgets/controls",
            "_model_module_version": "1.5.0",
            "value": 5,
            "_view_count": null,
            "_view_module_version": "1.5.0",
            "orientation": "horizontal",
            "min": 0,
            "description_tooltip": null,
            "_model_module": "@jupyter-widgets/controls",
            "layout": "IPY_MODEL_2546f9a3b951495e8619dd07a7b493d6"
          }
        },
        "604853d7c4834c99aa702d7b00ef8fa8": {
          "model_module": "@jupyter-widgets/controls",
          "model_name": "HTMLModel",
          "state": {
            "_view_name": "HTMLView",
            "style": "IPY_MODEL_8b8ecbbfa7fb4d68afacae24e0985719",
            "_dom_classes": [],
            "description": "",
            "_model_name": "HTMLModel",
            "placeholder": "​",
            "_view_module": "@jupyter-widgets/controls",
            "_model_module_version": "1.5.0",
            "value": " 5/5 [00:00&lt;00:00, 48.15it/s]",
            "_view_count": null,
            "_view_module_version": "1.5.0",
            "description_tooltip": null,
            "_model_module": "@jupyter-widgets/controls",
            "layout": "IPY_MODEL_8bb6be60d95f47a5bfeb98cf5ea8911f"
          }
        },
        "9367270812d7427a94cb8847a35d0238": {
          "model_module": "@jupyter-widgets/controls",
          "model_name": "ProgressStyleModel",
          "state": {
            "_view_name": "StyleView",
            "_model_name": "ProgressStyleModel",
            "description_width": "initial",
            "_view_module": "@jupyter-widgets/base",
            "_model_module_version": "1.5.0",
            "_view_count": null,
            "_view_module_version": "1.2.0",
            "bar_color": null,
            "_model_module": "@jupyter-widgets/controls"
          }
        },
        "2546f9a3b951495e8619dd07a7b493d6": {
          "model_module": "@jupyter-widgets/base",
          "model_name": "LayoutModel",
          "state": {
            "_view_name": "LayoutView",
            "grid_template_rows": null,
            "right": null,
            "justify_content": null,
            "_view_module": "@jupyter-widgets/base",
            "overflow": null,
            "_model_module_version": "1.2.0",
            "_view_count": null,
            "flex_flow": null,
            "width": null,
            "min_width": null,
            "border": null,
            "align_items": null,
            "bottom": null,
            "_model_module": "@jupyter-widgets/base",
            "top": null,
            "grid_column": null,
            "overflow_y": null,
            "overflow_x": null,
            "grid_auto_flow": null,
            "grid_area": null,
            "grid_template_columns": null,
            "flex": "2",
            "_model_name": "LayoutModel",
            "justify_items": null,
            "grid_row": null,
            "max_height": null,
            "align_content": null,
            "visibility": null,
            "align_self": null,
            "height": null,
            "min_height": null,
            "padding": null,
            "grid_auto_rows": null,
            "grid_gap": null,
            "max_width": null,
            "order": null,
            "_view_module_version": "1.2.0",
            "grid_template_areas": null,
            "object_position": null,
            "object_fit": null,
            "grid_auto_columns": null,
            "margin": null,
            "display": null,
            "left": null
          }
        },
        "8b8ecbbfa7fb4d68afacae24e0985719": {
          "model_module": "@jupyter-widgets/controls",
          "model_name": "DescriptionStyleModel",
          "state": {
            "_view_name": "StyleView",
            "_model_name": "DescriptionStyleModel",
            "description_width": "",
            "_view_module": "@jupyter-widgets/base",
            "_model_module_version": "1.5.0",
            "_view_count": null,
            "_view_module_version": "1.2.0",
            "_model_module": "@jupyter-widgets/controls"
          }
        },
        "8bb6be60d95f47a5bfeb98cf5ea8911f": {
          "model_module": "@jupyter-widgets/base",
          "model_name": "LayoutModel",
          "state": {
            "_view_name": "LayoutView",
            "grid_template_rows": null,
            "right": null,
            "justify_content": null,
            "_view_module": "@jupyter-widgets/base",
            "overflow": null,
            "_model_module_version": "1.2.0",
            "_view_count": null,
            "flex_flow": null,
            "width": null,
            "min_width": null,
            "border": null,
            "align_items": null,
            "bottom": null,
            "_model_module": "@jupyter-widgets/base",
            "top": null,
            "grid_column": null,
            "overflow_y": null,
            "overflow_x": null,
            "grid_auto_flow": null,
            "grid_area": null,
            "grid_template_columns": null,
            "flex": null,
            "_model_name": "LayoutModel",
            "justify_items": null,
            "grid_row": null,
            "max_height": null,
            "align_content": null,
            "visibility": null,
            "align_self": null,
            "height": null,
            "min_height": null,
            "padding": null,
            "grid_auto_rows": null,
            "grid_gap": null,
            "max_width": null,
            "order": null,
            "_view_module_version": "1.2.0",
            "grid_template_areas": null,
            "object_position": null,
            "object_fit": null,
            "grid_auto_columns": null,
            "margin": null,
            "display": null,
            "left": null
          }
        }
      }
    }
  },
  "cells": [
    {
      "cell_type": "markdown",
      "metadata": {
        "id": "view-in-github",
        "colab_type": "text"
      },
      "source": [
        "<a href=\"https://colab.research.google.com/github/elenek97/TMA4900/blob/main/Master_fra_prosjekt.ipynb\" target=\"_parent\"><img src=\"https://colab.research.google.com/assets/colab-badge.svg\" alt=\"Open In Colab\"/></a>"
      ]
    },
    {
      "cell_type": "markdown",
      "metadata": {
        "id": "jVGG0pfBcHFV"
      },
      "source": [
        "# Multi-task forecasting model with imputation as helping task\n",
        "A bi-directional LSTM neural network for time series with missing data is trained jointly with an imputation task with the aim of improved performance utilizing information fron the related task."
      ]
    },
    {
      "cell_type": "code",
      "metadata": {
        "colab": {
          "base_uri": "https://localhost:8080/"
        },
        "id": "hU1lb8R1BA15",
        "outputId": "1cf2812a-3e48-433d-96db-13eba2549b61"
      },
      "source": [
        "! pip install --quiet pytorch-lightning\n",
        "! pip install --quiet einops\n",
        "! pip install --quiet pmdarima"
      ],
      "execution_count": 2,
      "outputs": [
        {
          "output_type": "stream",
          "text": [
            "\u001b[K     |████████████████████████████████| 819kB 8.1MB/s \n",
            "\u001b[K     |████████████████████████████████| 10.6MB 33.9MB/s \n",
            "\u001b[K     |████████████████████████████████| 235kB 38.8MB/s \n",
            "\u001b[K     |████████████████████████████████| 122kB 43.8MB/s \n",
            "\u001b[K     |████████████████████████████████| 645kB 38.1MB/s \n",
            "\u001b[K     |████████████████████████████████| 829kB 34.7MB/s \n",
            "\u001b[K     |████████████████████████████████| 1.3MB 34.7MB/s \n",
            "\u001b[K     |████████████████████████████████| 143kB 35.2MB/s \n",
            "\u001b[K     |████████████████████████████████| 296kB 39.8MB/s \n",
            "\u001b[?25h  Building wheel for future (setup.py) ... \u001b[?25l\u001b[?25hdone\n",
            "\u001b[31mERROR: tensorflow 2.5.0 has requirement tensorboard~=2.5, but you'll have tensorboard 2.4.1 which is incompatible.\u001b[0m\n",
            "\u001b[K     |████████████████████████████████| 1.5MB 8.5MB/s \n",
            "\u001b[K     |████████████████████████████████| 9.5MB 35.3MB/s \n",
            "\u001b[?25h"
          ],
          "name": "stdout"
        }
      ]
    },
    {
      "cell_type": "code",
      "metadata": {
        "id": "EJr4LjPI4zTQ",
        "colab": {
          "base_uri": "https://localhost:8080/"
        },
        "outputId": "9ee6c56b-15e0-4cd7-f769-1d245e2b0273"
      },
      "source": [
        "%matplotlib inline\n",
        "from IPython.display import clear_output\n",
        "import matplotlib\n",
        "import numpy as np\n",
        "import pandas as pd\n",
        "import sklearn\n",
        "import torch\n",
        "import matplotlib.pyplot as plt\n",
        "from google.colab import files\n",
        "import torch.nn as nn\n",
        "import torch.optim as optim\n",
        "from sklearn.preprocessing import StandardScaler\n",
        "import numpy as np\n",
        "import os\n",
        "import time\n",
        "import tensorflow as tf\n",
        "import torch.nn.functional as F\n",
        "from sklearn.preprocessing import StandardScaler, RobustScaler\n",
        "from torch.utils.data import Dataset, DataLoader, TensorDataset\n",
        "from google.colab import drive\n",
        "from einops import repeat\n",
        "import pytorch_lightning as pl\n",
        "from pytorch_lightning import Trainer, seed_everything\n",
        "from pytorch_lightning.loggers.csv_logs import CSVLogger\n",
        "from pytorch_lightning.callbacks.early_stopping import EarlyStopping"
      ],
      "execution_count": 3,
      "outputs": [
        {
          "output_type": "stream",
          "text": [
            "/usr/local/lib/python3.7/dist-packages/pytorch_lightning/metrics/__init__.py:44: LightningDeprecationWarning: `pytorch_lightning.metrics.*` module has been renamed to `torchmetrics.*` and split off to its own package (https://github.com/PyTorchLightning/metrics) since v1.3 and will be removed in v1.5\n",
            "  \"`pytorch_lightning.metrics.*` module has been renamed to `torchmetrics.*` and split off to its own package\"\n"
          ],
          "name": "stderr"
        }
      ]
    },
    {
      "cell_type": "markdown",
      "metadata": {
        "id": "i0pq2fIU6smM"
      },
      "source": [
        "Connect colab to drive:"
      ]
    },
    {
      "cell_type": "code",
      "metadata": {
        "colab": {
          "base_uri": "https://localhost:8080/"
        },
        "id": "HTfMcUBm6TS_",
        "outputId": "2c098f34-c907-4120-87ab-6aaa4ce32e84"
      },
      "source": [
        "from google.colab import drive\n",
        "drive.mount('/content/gdrive')"
      ],
      "execution_count": 4,
      "outputs": [
        {
          "output_type": "stream",
          "text": [
            "Mounted at /content/gdrive\n"
          ],
          "name": "stdout"
        }
      ]
    },
    {
      "cell_type": "markdown",
      "metadata": {
        "id": "_RFPXNov-jNz"
      },
      "source": [
        "Check if GPU available:"
      ]
    },
    {
      "cell_type": "code",
      "metadata": {
        "colab": {
          "base_uri": "https://localhost:8080/"
        },
        "id": "KmMe8lwHqqLi",
        "outputId": "ba7f34b2-33b8-470d-8e20-50c1593a621a"
      },
      "source": [
        "# checking if GPU is available\n",
        "is_cuda = torch.cuda.is_available()\n",
        "\n",
        "if is_cuda:\n",
        "    device = torch.device(\"cuda\")\n",
        "else:\n",
        "    device = torch.device(\"cpu\")\n",
        "\n",
        "print(is_cuda)"
      ],
      "execution_count": 5,
      "outputs": [
        {
          "output_type": "stream",
          "text": [
            "True\n"
          ],
          "name": "stdout"
        }
      ]
    },
    {
      "cell_type": "markdown",
      "metadata": {
        "id": "Vvhw1i5o4-CY"
      },
      "source": [
        "# Load data"
      ]
    },
    {
      "cell_type": "markdown",
      "metadata": {
        "id": "jrqINRMT-mgV"
      },
      "source": [
        "## Electricity data"
      ]
    },
    {
      "cell_type": "code",
      "metadata": {
        "id": "U_rqCY6s9LJG"
      },
      "source": [
        "df1 = pd.read_csv(\"/content/gdrive/MyDrive/ElectricityData/AEP_hourly.csv\")\n",
        "df2 = pd.read_csv(\"/content/gdrive/MyDrive/ElectricityData/NI_hourly.csv\")\n",
        "df3 = pd.read_csv(\"/content/gdrive/MyDrive/ElectricityData/COMED_hourly.csv\")\n",
        "df4 = pd.read_csv(\"/content/gdrive/MyDrive/ElectricityData/DAYTON_hourly.csv\")\n",
        "df5 = pd.read_csv(\"/content/gdrive/MyDrive/ElectricityData/DEOK_hourly.csv\")\n",
        "df6 = pd.read_csv(\"/content/gdrive/MyDrive/ElectricityData/DOM_hourly.csv\")\n",
        "df7 = pd.read_csv(\"/content/gdrive/MyDrive/ElectricityData/DUQ_hourly.csv\")\n",
        "df8 = pd.read_csv(\"/content/gdrive/MyDrive/ElectricityData/EKPC_hourly.csv\")\n",
        "df9 = pd.read_csv(\"/content/gdrive/MyDrive/ElectricityData/FE_hourly.csv\")\n",
        "df10 = pd.read_csv(\"/content/gdrive/MyDrive/ElectricityData/PJME_hourly.csv\")"
      ],
      "execution_count": 6,
      "outputs": []
    },
    {
      "cell_type": "code",
      "metadata": {
        "colab": {
          "base_uri": "https://localhost:8080/",
          "height": 483
        },
        "id": "SJ5BhQTwN0gZ",
        "outputId": "11079a1e-e0b2-4fd0-99b4-54c87918555a"
      },
      "source": [
        "plt.figure(figsize=(10,8))\n",
        "plt.plot(df1['AEP_MW'], label='AEP_MW')\n",
        "plt.plot(df2['NI_MW'],label='NI_MW')\n",
        "plt.plot(df3['COMED_MW'], label='COMED_MW')\n",
        "plt.plot(df4['DAYTON_MW'], label='DAYTON_MW')\n",
        "plt.plot(df5['DEOK_MW'], label='DEOK_MW')\n",
        "plt.plot(df6['DOM_MW'], label = 'DEOK_MW')\n",
        "plt.plot(df7['DUQ_MW'], label = 'DUQ_MW')\n",
        "plt.plot(df8['EKPC_MW'], label = 'EKPC_MW')\n",
        "plt.plot(df9['FE_MW'], label = 'FE_MW')\n",
        "plt.plot(df10['PJME_MW'], label ='PJME_MW')\n",
        "plt.legend()\n",
        "plt.show()"
      ],
      "execution_count": 7,
      "outputs": [
        {
          "output_type": "display_data",
          "data": {
            "image/png": "[encoded data removed]",
            "text/plain": [
              "<Figure size 720x576 with 1 Axes>"
            ]
          },
          "metadata": {
            "tags": [],
            "needs_background": "light"
          }
        }
      ]
    },
    {
      "cell_type": "markdown",
      "metadata": {
        "id": "FfMeiEKct1NQ"
      },
      "source": [
        "## Synthetic SARIMA data"
      ]
    },
    {
      "cell_type": "code",
      "metadata": {
        "id": "-Y2zJjjxuC-y"
      },
      "source": [
        "sarima = pd.read_csv(\"/content/gdrive/MyDrive/Master/differentsarimasimulations.csv\")"
      ],
      "execution_count": 8,
      "outputs": []
    },
    {
      "cell_type": "code",
      "metadata": {
        "id": "8gOn4tAOvCG3"
      },
      "source": [
        "sarima = sarima.drop('Unnamed: 0', axis=1)\n",
        "columns = sarima.columns\n",
        "sarimats = []\n",
        "for name in columns:\n",
        "  sarimats.append(sarima[name])"
      ],
      "execution_count": 9,
      "outputs": []
    },
    {
      "cell_type": "code",
      "metadata": {
        "colab": {
          "base_uri": "https://localhost:8080/",
          "height": 265
        },
        "id": "S85_rZAsL1_1",
        "outputId": "38b4e8d7-202f-4d3e-ab3a-0c249b16c4e8"
      },
      "source": [
        "plt.figure()\n",
        "plt.plot(sarimats[0])\n",
        "plt.plot(sarimats[11])\n",
        "plt.plot(sarimats[22])\n",
        "plt.plot(sarimats[33])\n",
        "plt.plot(sarimats[45])\n",
        "plt.plot(sarimats[55])\n",
        "plt.plot(sarimats[65])\n",
        "plt.plot(sarimats[78])\n",
        "plt.plot(sarimats[89])\n",
        "plt.plot(sarimats[99])\n",
        "plt.show()"
      ],
      "execution_count": 10,
      "outputs": [
        {
          "output_type": "display_data",
          "data": {
            "image/png": "[encoded data removed]",
            "text/plain": [
              "<Figure size 432x288 with 1 Axes>"
            ]
          },
          "metadata": {
            "tags": [],
            "needs_background": "light"
          }
        }
      ]
    },
    {
      "cell_type": "markdown",
      "metadata": {
        "id": "BBgbmQcp6VeT"
      },
      "source": [
        "# Build model"
      ]
    },
    {
      "cell_type": "markdown",
      "metadata": {
        "id": "to-BHJ4x-VmB"
      },
      "source": [
        "## The robust missing value indicator approach"
      ]
    },
    {
      "cell_type": "code",
      "metadata": {
        "id": "-HEGPnEpB5Kq"
      },
      "source": [
        "def expand_missing(x, missing_rate, n_features, device=device):\n",
        "  \"\"\"A function that automatically simulates missing data \n",
        "  and adds a missing value indicator.\"\"\"\n",
        "  b, len_seq, chan = x.shape\n",
        "  expand = missing_rate * torch.ones_like(x, device=device)\n",
        "  mask = torch.bernoulli(expand) \n",
        "  remove = 1. - mask\n",
        "  miss_x = remove * x\n",
        "  out = torch.cat([miss_x, mask], -1)\n",
        "  return out, x, mask"
      ],
      "execution_count": 11,
      "outputs": []
    },
    {
      "cell_type": "markdown",
      "metadata": {
        "id": "_5tb-0tipIr6"
      },
      "source": [
        "## Pytorch Lightning Data Module"
      ]
    },
    {
      "cell_type": "code",
      "metadata": {
        "id": "doMfMueKepUY"
      },
      "source": [
        "class timeseriesDataModule(pl.LightningDataModule):\n",
        "    '''\n",
        "    PyTorch Lighting DataModule subclass:\n",
        "    https://pytorch-lightning.readthedocs.io/en/latest/datamodules.html\n",
        "\n",
        "    Serves the purpose of aggregating all data loading \n",
        "      and processing work in one place.\n",
        "    '''\n",
        "    \n",
        "    def __init__(self, datalist, seq_len , batch_size ,  num_workers=1, train_fraction=0.7, val_fraction=0.15, val_test_missing_rate=0.):\n",
        "        super().__init__()\n",
        "        self.seq_len = seq_len\n",
        "        self.batch_size = batch_size\n",
        "        self.num_workers = num_workers\n",
        "        self.datalist = datalist#[dt.set_index('Datetime').iloc[:, 0] for dt in datalist] #syntetisk data: datalist\n",
        "        self.train_fraction = train_fraction\n",
        "        self.val_fraction = val_fraction\n",
        "        self.test_fraction = 1 - self.train_fraction - self.val_fraction\n",
        "        self.val_test_missing_rate = val_test_missing_rate\n",
        "        self.scaler = RobustScaler()\n",
        "        self._setup()\n",
        "        \n",
        "\n",
        "        \n",
        "    def prepare_data(self):\n",
        "        pass\n",
        "    \n",
        "    \n",
        "    ###################### MAIN SETUP FUNCTION: Returns the expanded data with missing value indicator###\n",
        "    def _setup(self):\n",
        "      torch.manual_seed(0)\n",
        "      train, val, test = [], [], []\n",
        "    \n",
        "      for dt in self.datalist:\n",
        "        dt = self._scale_dataframe(dt)            # scale\n",
        "        tr1, vl1, te1 = self._process_one_df(dt)  # split into train, val, test\n",
        "        train.extend(tr1)                         # add train part of this time series to the main train data list\n",
        "        val.extend(vl1)                           # add val part of this time series to the main val data list\n",
        "        test.extend(te1)                          # add test part of this time series to the main test data list\n",
        "\n",
        "      #remove values and add missing value indicator. \n",
        "      self.test_orig = test\n",
        "      self.train_data, self.complete_train = self._process_stack(train, missing_rate = self.val_test_missing_rate) \n",
        "      self.val_data, self.complete_val = self._process_stack(val, missing_rate = self.val_test_missing_rate)  \n",
        "      self.test_data , self.complete_test = self._process_stack(test, missing_rate = self.val_test_missing_rate) \n",
        "    \n",
        "\n",
        "    ####################### DIFFERENT FUNCTIONS NEEDED TO DO THE SETUP: ##################################\n",
        "\n",
        "    def _scale_dataframe(self, dt):\n",
        "      \"\"\"This function scales the data\"\"\"\n",
        "      dt = dt.to_frame() #kommenter denne ut for syntetisk data\n",
        "      n_train, _ = self._get_n_samples_in_split(dt.shape[0])\n",
        "      scaler = self.scaler.fit(dt.iloc[:n_train])\n",
        "      return pd.Series(scaler.transform(dt)[:,0], index=dt.index, name='target')\n",
        "    \n",
        "    \n",
        "    def _process_one_df(self, df): \n",
        "      \"\"\"This function splits time series into train, validation and test set\"\"\"\n",
        "      seqs = self._create_sequence_data(df.values)\n",
        "      n_train, n_val = self._get_n_samples_in_split(len(seqs))\n",
        "      train = seqs[:n_train]\n",
        "      val = seqs[n_train:n_train + n_val]\n",
        "      test = seqs[n_train + n_val:]\n",
        "      return train, val, test\n",
        "    \n",
        "    def _create_sequence_data (self, input_data): \n",
        "      '''Divide the concatenated tensors into sequences of length seq_len'''\n",
        "      L = len(input_data)\n",
        "      inout_seq = []\n",
        "      for i in range (L - self.seq_len):\n",
        "          x = torch.from_numpy(input_data[i : i+self.seq_len])\n",
        "          y = torch.from_numpy(input_data[i+self.seq_len : i+self.seq_len+1])\n",
        "          inout_seq.append((x, y))\n",
        "      return inout_seq\n",
        "\n",
        "    def _process_stack(self, data, missing_rate = None):\n",
        "      \n",
        "      inp_data = torch.stack([d[0] for d in data]).unsqueeze(-1).float().to(device)\n",
        "      complete_data = inp_data\n",
        "      print(len(complete_data))\n",
        "      targ = torch.FloatTensor([d[1] for d in data]).to(device)\n",
        "      return (inp_data, targ), complete_data\n",
        "\n",
        "    def _get_n_samples_in_split(self, n_values):\n",
        "      return int(self.train_fraction * n_values), int(self.val_fraction * n_values)\n",
        "\n",
        "    def train_dataloader(self):\n",
        "        ds = TensorDataset(*self.train_data)\n",
        "        return DataLoader(ds, batch_size=self.batch_size)\n",
        "\n",
        "    def val_dataloader(self):\n",
        "        ds = TensorDataset(*self.val_data)\n",
        "        return DataLoader(ds, batch_size=self.batch_size)\n",
        "\n",
        "    def test_dataloader(self):\n",
        "        ds = TensorDataset(*self.test_data)\n",
        "        return DataLoader(ds, batch_size=self.batch_size*10)"
      ],
      "execution_count": 16,
      "outputs": []
    },
    {
      "cell_type": "code",
      "metadata": {
        "id": "ZfVBi8U387LB"
      },
      "source": [
        "class biLSTMRegressor(pl.LightningModule):\n",
        "    '''\n",
        "    Standard PyTorch Lightning module:\n",
        "    https://pytorch-lightning.readthedocs.io/en/latest/lightning_module.html\n",
        "    '''\n",
        "    def __init__(self, \n",
        "                 n_features, \n",
        "                 hidden_size, \n",
        "                 seq_len, \n",
        "                 batch_size,\n",
        "                 num_layers, \n",
        "                 dropout, \n",
        "                 learning_rate,\n",
        "                 criterion1,\n",
        "                 criterion2,\n",
        "                 max_missing_rate,\n",
        "                 test_miss_rate,\n",
        "                 alpha):\n",
        "      \n",
        "        self.missing_threshold = 1.e-2\n",
        "        super(biLSTMRegressor, self).__init__()\n",
        "        self.n_features = n_features\n",
        "        self.hidden_size = hidden_size\n",
        "        self.seq_len = seq_len\n",
        "        self.batch_size = batch_size\n",
        "        self.num_layers = num_layers\n",
        "        self.dropout = dropout\n",
        "        self.criterion1 = criterion1\n",
        "        self.criterion2 = criterion2\n",
        "        self.learning_rate = learning_rate\n",
        "        self.alpha = alpha\n",
        "        self.max_missing_rate = max_missing_rate\n",
        "        self.test_miss_rate = test_miss_rate\n",
        "        \n",
        "  \n",
        "        self.lstm = nn.LSTM(input_size=n_features, \n",
        "                            hidden_size=hidden_size,\n",
        "                            num_layers=num_layers, \n",
        "                            dropout=dropout, \n",
        "                            batch_first=True, bidirectional=True)\n",
        "        \n",
        "        self.linear = nn.Linear(hidden_size*2, 1) #linear layer for forecasting \n",
        "        self.relu = nn.ReLU()\n",
        "        self.impute_linear = nn.Linear(hidden_size*2, 1) #linear layer for sequence imputation \n",
        "         \n",
        "\n",
        "    def imputation_loop(self, lstm_out, orig_x, miss_x, mask):\n",
        "            \n",
        "        seq_preds = [] \n",
        "        comp_x_vals = []\n",
        "\n",
        "        for i in range(self.seq_len):\n",
        "          hidden_layer_t = lstm_out[:,i,:] \n",
        "          mask1 = mask[:,i,:]\n",
        "          imputed = self.impute_linear(hidden_layer_t)\n",
        "          imputed = imputed*mask1\n",
        "          imputed = imputed.unsqueeze(-1)\n",
        "          seq_preds.append(imputed)  \n",
        "\n",
        "          comp_x = orig_x[:,i,:]*mask1\n",
        "          comp_x_vals.append(comp_x)\n",
        "              \n",
        "        seq_preds = torch.stack(seq_preds, dim = 1)\n",
        "        seq_preds = seq_preds.squeeze(-1)\n",
        "        comp_x_vals  = torch.stack(comp_x_vals, dim = 1)\n",
        "        return seq_preds, comp_x_vals  \n",
        "\n",
        "    def forward(self, x, miss_rate):\n",
        "        #rintroduce missing data and expand the structure with a missing value indicator\n",
        "        miss_x , orig_x, mask = expand_missing(x, miss_rate, self.n_features)\n",
        "        \n",
        "\n",
        "        #encoder\n",
        "        lstm_out, _ = self.lstm(miss_x)\n",
        "\n",
        "        lstm_out_copy = lstm_out.clone()\n",
        "\n",
        "        #prediction decoder\n",
        "        #yrelu = self.relu(lstm_out[:,-1])\n",
        "        #y_hat = self.linear(yrelu)#\n",
        "        y_hat = self.linear(lstm_out[:,-1])\n",
        "\n",
        "        #imputation decoder\n",
        "        seq_preds, comp_x_vals = self.imputation_loop(lstm_out_copy, orig_x, miss_x, mask)\n",
        "\n",
        "        num_missing = sum(sum(mask))\n",
        "        return y_hat.squeeze(), seq_preds, comp_x_vals, num_missing \n",
        "    \n",
        "    def configure_optimizers(self):\n",
        "        return torch.optim.Adam(self.parameters(), lr = self.learning_rate)\n",
        "\n",
        "    \n",
        "\n",
        "    def training_step(self, batch, batch_idx):\n",
        "        x, y = batch  \n",
        "        y_hat, seq_preds, comp_x_vals, num_missing = self.forward(x,self.max_missing_rate)\n",
        "        # prediction loss\n",
        "        loss_pred = self.criterion1(y_hat, y)\n",
        "        \n",
        "        if (self.alpha==0.):\n",
        "          loss = loss_pred\n",
        "          self.log('train_loss', loss)\n",
        "          return loss\n",
        "        else:\n",
        "          #imputation loss\n",
        "          loss_imputation = self.criterion2(seq_preds, comp_x_vals)/num_missing\n",
        "          \n",
        "\n",
        "          #total loss\n",
        "          loss = loss_pred + self.alpha*loss_imputation\n",
        "          self.log('train_loss', loss)\n",
        "          return loss\n",
        "\n",
        "    def validation_step(self, batch, batch_idx):\n",
        "        x, y = batch        \n",
        "        y_hat, seq_preds, comp_x_vals, num_missing = self.forward(x, self.max_missing_rate)\n",
        "\n",
        "        #prediction loss\n",
        "        loss_pred = self.criterion1(y_hat, y)\n",
        "        \n",
        "      \n",
        "        if (self.alpha==0.):\n",
        "          loss = loss_pred\n",
        "          self.log('val_loss', loss)\n",
        "          return loss\n",
        "        else:\n",
        "          #imputation loss\n",
        "          loss_imputation = self.criterion2(seq_preds, comp_x_vals)/num_missing \n",
        "          #total loss\n",
        "          loss = loss_pred + self.alpha*loss_imputation\n",
        "          self.log('val_loss', loss)\n",
        "          return loss\n",
        "    \n",
        "    def test_step(self, batch, batch_idx):\n",
        "\n",
        "        x, y = batch \n",
        "      \n",
        "\n",
        "        y_hat, seq_preds, comp_x_vals,num_missing  = self.forward(x, self.test_miss_rate)\n",
        "        #prediction loss\n",
        "        loss_pred = self.criterion1(y_hat, y)\n",
        "        \n",
        "        if (self.alpha==0.):\n",
        "          loss = loss_pred\n",
        "          self.log('test_loss', loss)\n",
        "          return loss\n",
        "        else:\n",
        "          #imputation loss\n",
        "          loss_imputation = self.criterion2(seq_preds, comp_x_vals)/num_missing\n",
        "          #total loss\n",
        "          loss = loss_pred + self.alpha*loss_imputation\n",
        "          self.log('test_loss', loss)\n",
        "          return loss"
      ],
      "execution_count": 13,
      "outputs": []
    },
    {
      "cell_type": "markdown",
      "metadata": {
        "id": "Mn0pJuGie8qj"
      },
      "source": [
        "# Model training"
      ]
    },
    {
      "cell_type": "code",
      "metadata": {
        "id": "1EuC9Ufc9KiI"
      },
      "source": [
        "'''\n",
        "All parameters are aggregated in one place.\n",
        "This is useful for reporting experiment params to experiment tracking software\n",
        "'''\n",
        "model_params = dict(\n",
        "    seq_len = 25,\n",
        "    batch_size = 64, #128, \n",
        "    criterion1 = nn.MSELoss(), #mean MSE\n",
        "    criterion2 = nn.MSELoss(reduction ='sum'), #for imputation (sum and divide on the number imputed)\n",
        "    n_features = 2, #time series + missing value indicator\n",
        "    dropout = 0.2,\n",
        "    learning_rate = 0.001, #electricity: 0.0001\n",
        "    test_miss_rate = 0.,\n",
        "\n",
        "    hidden_size = 100,\n",
        "    num_layers = 2,\n",
        "    max_missing_rate = 0.02, #ratio of missing values during training\n",
        "    alpha = 1.2 #weigth of imputation loss\n",
        ")\n",
        "trainer_params = dict(max_epochs=15, gpus=1, logger=CSVLogger('./', name='lstm', version='1'), progress_bar_refresh_rate=20)\n"
      ],
      "execution_count": 14,
      "outputs": []
    },
    {
      "cell_type": "code",
      "metadata": {
        "id": "JrsJAPdfyz7f",
        "colab": {
          "base_uri": "https://localhost:8080/"
        },
        "outputId": "43729271-af3c-4e28-c940-4b89f1294dc8"
      },
      "source": [
        "#datamodule = timeseriesDataModule([df1,df2,df3,df4,df5,df6,df7,df8,df9,df10], seq_len=25, batch_size=128) \n",
        "datamodule = timeseriesDataModule(sarimats, seq_len = 25, batch_size = 64)"
      ],
      "execution_count": 17,
      "outputs": [
        {
          "output_type": "stream",
          "text": [
            "1700\n",
            "300\n",
            "500\n"
          ],
          "name": "stdout"
        }
      ]
    },
    {
      "cell_type": "code",
      "metadata": {
        "colab": {
          "base_uri": "https://localhost:8080/"
        },
        "id": "qqdIAJPL9OfO",
        "outputId": "edf1d622-109f-41fb-cc3d-120d7213c4e0"
      },
      "source": [
        "seed_everything(1)\n",
        "\n",
        "trainer = Trainer(**trainer_params,callbacks=[EarlyStopping(monitor='val_loss')])\n",
        "\n",
        "model = biLSTMRegressor(**model_params)"
      ],
      "execution_count": 18,
      "outputs": [
        {
          "output_type": "stream",
          "text": [
            "Global seed set to 1\n",
            "GPU available: True, used: True\n",
            "TPU available: False, using: 0 TPU cores\n"
          ],
          "name": "stderr"
        }
      ]
    },
    {
      "cell_type": "code",
      "metadata": {
        "colab": {
          "base_uri": "https://localhost:8080/",
          "height": 424,
          "referenced_widgets": [
            "6a269a2a3872489e96b829a4d45d17aa",
            "e3af4fc9d517404584995205d03b255d",
            "788d419fded348ceb8de1863b1277c82",
            "ee1e5941b6564605a7d0a53de37a94bb",
            "ef974b3dae0c464dbd7730abe7e20393",
            "eaa0a17ca4f341cb87b8dba58f6c3c65",
            "c80cca1176ee491eac77764a3057db1f",
            "00bc0e946c6a4521b7c8f9a7a5fb999b",
            "e070a1deb1944ec3a4139e52b115c048",
            "223c5b1068dc400dad48f8e1cc27ee42",
            "9ec1c19ce4ab44928d34289d9334a0f6",
            "b2d8bd9ac533414d97ce4f1c73c0891d",
            "dbba4eaaf20f4c14ad860d18cee02f80",
            "bde87a6df6664719a414a24c21cebfc3",
            "15aaa1c288f54b21b5f5513006d36522",
            "ae8fb8f408864da490c051905b17b979",
            "b066904332d445978abda57bf5877f38",
            "03d8368950854a359bf82c88bdb66941",
            "11f0195d3b8940869d00d2923a218604",
            "e4735d734a514aafa3bb0d70ec8405dc",
            "fd2bd27103454ec7b0df09c6d1931155",
            "ee58d0000ab545febacc50cfb5a72f36",
            "f0fcee93ab56467092f7ceb1d9dddaa7",
            "c22fd8f06fce424d9ecc66d15c51be24",
            "87ec1467edc44a01af69ab0791c8b91f",
            "cc6cc56802054bd881c6ea96fa2c2309",
            "f96b131431b84ddebe44ff7d3562113d",
            "5f9b717e06bd4a00908d4601b2712398",
            "45b8b604e4174a10bb8eac5159c3f1e2",
            "1e99de1528d942f88488a6ab7b030734",
            "24b36c5b1d89413db59fa85c1b45026b",
            "8fbf061f06fa4a339944e85278804555",
            "bc373f502c3a4a5782b0446035ce237d",
            "0e0153c5ae6c48fba2edf35a08e19e6b",
            "867c912b6ba64e7e9896d94352abc1e0",
            "347d777cf727475891f4a29d7859fc84",
            "bdae5c12524c45cbbb8cdb509ce0f443",
            "55be8274c9ab48d3be856edcfdbba741",
            "d33930e4e62c4af8b4be34164df1568e",
            "46d47918955b4443bb9262f1bd95a34e",
            "e1a2923f1ce244b49f7ae5b7448797b2",
            "5bfa22716e5041498a1cc84cc2a8ca9a",
            "c0c07414cebd4ecf8ea75e8ab86cf585",
            "4f95d851526e488b9ed15ac62512f195",
            "4daabf4598b4488695e54142e5d03e2f",
            "db3b53f1a9424f4ea606ebd64fb8f874",
            "cf3164f781a34b2db100847dd98bc0b9",
            "714d6984bdc44b9585a610870ab38a58",
            "e6e81a3d414642ebbb0b42e1b8f06b9b",
            "c0b2dfae41b34954b324abc76cb22a12",
            "9757537b2f3d4dbdb5788fa7c7a61d81",
            "a5fbf11b2e8f4d19a973b95dc4482485",
            "6bf2443d5cfc4208bb88be96466d0613",
            "589f6d4a39b24fb6af661927e687eea2",
            "f00162f1ab4a46a49611010835dc5017",
            "3661b23691d941cd8d059eaa2bb50e9f",
            "44381ea9f0d04b6f8764e01805beff09",
            "5c7a18417db94362ae7e4e6378c5c159",
            "96cb1c65a85b4ef786c084eb56804fd7",
            "a303230076444f1a9b3664afa7e02b66",
            "2d1e8560801041d19dc8bc6a36f85134",
            "ceeba89351184f249822ea5cc3f24f2e",
            "6f8843fee45a4b808b882a5988f7a3e2",
            "32d758fdb8c949549af270d77a18d601",
            "5b55a3a326084a8abc5aa7f093e97853",
            "44fcd4dcb249478b936c248a94499fdb",
            "77db3271450d4ec4ae2ba3e099b1dcae",
            "6d36b835f642459eb764d6d936ef810c",
            "632d2ab52d92494c9fe8837464135c31",
            "95270babeb4b4614a5924c6c73cb83f7",
            "53e1643f3a5244f288986d5c709fddcc",
            "02a0872592c74891a218bfb7ec9b9e16",
            "54f8f33ed3d64e18bf926bd1d5a0a363",
            "f3d7a3fac99042c5a6e84cea2b3631ed",
            "6b0cccc0a76445f783c87054f114ec70",
            "604853d7c4834c99aa702d7b00ef8fa8",
            "9367270812d7427a94cb8847a35d0238",
            "2546f9a3b951495e8619dd07a7b493d6",
            "8b8ecbbfa7fb4d68afacae24e0985719",
            "8bb6be60d95f47a5bfeb98cf5ea8911f"
          ]
        },
        "id": "1CjQ48F6Q9Ix",
        "outputId": "4e5669fd-25b8-42ce-cd98-701dc4324546"
      },
      "source": [
        "trainer.fit(model, datamodule = datamodule)"
      ],
      "execution_count": 19,
      "outputs": [
        {
          "output_type": "stream",
          "text": [
            "LOCAL_RANK: 0 - CUDA_VISIBLE_DEVICES: [0]\n",
            "\n",
            "  | Name          | Type    | Params\n",
            "------------------------------------------\n",
            "0 | criterion1    | MSELoss | 0     \n",
            "1 | criterion2    | MSELoss | 0     \n",
            "2 | lstm          | LSTM    | 324 K \n",
            "3 | linear        | Linear  | 201   \n",
            "4 | relu          | ReLU    | 0     \n",
            "5 | impute_linear | Linear  | 201   \n",
            "------------------------------------------\n",
            "325 K     Trainable params\n",
            "0         Non-trainable params\n",
            "325 K     Total params\n",
            "1.301     Total estimated model params size (MB)\n"
          ],
          "name": "stderr"
        },
        {
          "output_type": "display_data",
          "data": {
            "application/vnd.jupyter.widget-view+json": {
              "model_id": "6a269a2a3872489e96b829a4d45d17aa",
              "version_minor": 0,
              "version_major": 2
            },
            "text/plain": [
              "HBox(children=(FloatProgress(value=1.0, bar_style='info', description='Validation sanity check', layout=Layout…"
            ]
          },
          "metadata": {
            "tags": []
          }
        },
        {
          "output_type": "stream",
          "text": [
            "Global seed set to 1\n"
          ],
          "name": "stderr"
        },
        {
          "output_type": "stream",
          "text": [
            "\r"
          ],
          "name": "stdout"
        },
        {
          "output_type": "display_data",
          "data": {
            "application/vnd.jupyter.widget-view+json": {
              "model_id": "e070a1deb1944ec3a4139e52b115c048",
              "version_minor": 0,
              "version_major": 2
            },
            "text/plain": [
              "HBox(children=(FloatProgress(value=1.0, bar_style='info', description='Training', layout=Layout(flex='2'), max…"
            ]
          },
          "metadata": {
            "tags": []
          }
        },
        {
          "output_type": "display_data",
          "data": {
            "application/vnd.jupyter.widget-view+json": {
              "model_id": "b066904332d445978abda57bf5877f38",
              "version_minor": 0,
              "version_major": 2
            },
            "text/plain": [
              "HBox(children=(FloatProgress(value=1.0, bar_style='info', description='Validating', layout=Layout(flex='2'), m…"
            ]
          },
          "metadata": {
            "tags": []
          }
        },
        {
          "output_type": "stream",
          "text": [
            "/usr/local/lib/python3.7/dist-packages/pytorch_lightning/callbacks/model_checkpoint.py:611: LightningDeprecationWarning: Relying on `self.log('val_loss', ...)` to set the ModelCheckpoint monitor is deprecated in v1.2 and will be removed in v1.4. Please, create your own `mc = ModelCheckpoint(monitor='your_monitor')` and use it as `Trainer(callbacks=[mc])`.\n",
            "  \"Relying on `self.log('val_loss', ...)` to set the ModelCheckpoint monitor is deprecated in v1.2\"\n"
          ],
          "name": "stderr"
        },
        {
          "output_type": "display_data",
          "data": {
            "application/vnd.jupyter.widget-view+json": {
              "model_id": "87ec1467edc44a01af69ab0791c8b91f",
              "version_minor": 0,
              "version_major": 2
            },
            "text/plain": [
              "HBox(children=(FloatProgress(value=1.0, bar_style='info', description='Validating', layout=Layout(flex='2'), m…"
            ]
          },
          "metadata": {
            "tags": []
          }
        },
        {
          "output_type": "display_data",
          "data": {
            "application/vnd.jupyter.widget-view+json": {
              "model_id": "bc373f502c3a4a5782b0446035ce237d",
              "version_minor": 0,
              "version_major": 2
            },
            "text/plain": [
              "HBox(children=(FloatProgress(value=1.0, bar_style='info', description='Validating', layout=Layout(flex='2'), m…"
            ]
          },
          "metadata": {
            "tags": []
          }
        },
        {
          "output_type": "display_data",
          "data": {
            "application/vnd.jupyter.widget-view+json": {
              "model_id": "e1a2923f1ce244b49f7ae5b7448797b2",
              "version_minor": 0,
              "version_major": 2
            },
            "text/plain": [
              "HBox(children=(FloatProgress(value=1.0, bar_style='info', description='Validating', layout=Layout(flex='2'), m…"
            ]
          },
          "metadata": {
            "tags": []
          }
        },
        {
          "output_type": "display_data",
          "data": {
            "application/vnd.jupyter.widget-view+json": {
              "model_id": "e6e81a3d414642ebbb0b42e1b8f06b9b",
              "version_minor": 0,
              "version_major": 2
            },
            "text/plain": [
              "HBox(children=(FloatProgress(value=1.0, bar_style='info', description='Validating', layout=Layout(flex='2'), m…"
            ]
          },
          "metadata": {
            "tags": []
          }
        },
        {
          "output_type": "display_data",
          "data": {
            "application/vnd.jupyter.widget-view+json": {
              "model_id": "44381ea9f0d04b6f8764e01805beff09",
              "version_minor": 0,
              "version_major": 2
            },
            "text/plain": [
              "HBox(children=(FloatProgress(value=1.0, bar_style='info', description='Validating', layout=Layout(flex='2'), m…"
            ]
          },
          "metadata": {
            "tags": []
          }
        },
        {
          "output_type": "display_data",
          "data": {
            "application/vnd.jupyter.widget-view+json": {
              "model_id": "5b55a3a326084a8abc5aa7f093e97853",
              "version_minor": 0,
              "version_major": 2
            },
            "text/plain": [
              "HBox(children=(FloatProgress(value=1.0, bar_style='info', description='Validating', layout=Layout(flex='2'), m…"
            ]
          },
          "metadata": {
            "tags": []
          }
        },
        {
          "output_type": "display_data",
          "data": {
            "application/vnd.jupyter.widget-view+json": {
              "model_id": "54f8f33ed3d64e18bf926bd1d5a0a363",
              "version_minor": 0,
              "version_major": 2
            },
            "text/plain": [
              "HBox(children=(FloatProgress(value=1.0, bar_style='info', description='Validating', layout=Layout(flex='2'), m…"
            ]
          },
          "metadata": {
            "tags": []
          }
        },
        {
          "output_type": "stream",
          "text": [
            "\n"
          ],
          "name": "stdout"
        }
      ]
    },
    {
      "cell_type": "code",
      "metadata": {
        "colab": {
          "base_uri": "https://localhost:8080/",
          "height": 538
        },
        "id": "G7yxKzM0CDp5",
        "outputId": "2f8c9d5e-6bf3-4730-b41c-39b819ee1a48"
      },
      "source": [
        "metrics = pd.read_csv('./lstm/1/metrics.csv')\n",
        "train_loss = metrics[['train_loss', 'step', 'epoch']][~np.isnan(metrics['train_loss'])]\n",
        "val_loss = metrics[['val_loss', 'epoch']][~np.isnan(metrics['val_loss'])]\n",
        "print(val_loss)\n",
        "fig, axes = plt.subplots(1, 2, figsize=(16, 5), dpi=100)\n",
        "axes[0].set_title('Train loss per batch')\n",
        "axes[0].plot(train_loss['step'], train_loss['train_loss'])\n",
        "axes[1].set_title('Validation loss per epoch')\n",
        "axes[1].plot(val_loss['epoch'], val_loss['val_loss'], color='orange')\n",
        "plt.show(block = True)"
      ],
      "execution_count": 20,
      "outputs": [
        {
          "output_type": "stream",
          "text": [
            "    val_loss  epoch\n",
            "0   0.891881      0\n",
            "2   0.749778      1\n",
            "3   0.784107      2\n",
            "5   0.928591      3\n",
            "6   0.743382      4\n",
            "8   0.896437      5\n",
            "9   0.760882      6\n",
            "11  0.973499      7\n"
          ],
          "name": "stdout"
        },
        {
          "output_type": "display_data",
          "data": {
            "image/png": "[encoded data removed]",
            "text/plain": [
              "<Figure size 1600x500 with 2 Axes>"
            ]
          },
          "metadata": {
            "tags": [],
            "needs_background": "light"
          }
        }
      ]
    },
    {
      "cell_type": "markdown",
      "metadata": {
        "id": "DOlWL17oZb1E"
      },
      "source": [
        "#Test model"
      ]
    },
    {
      "cell_type": "code",
      "metadata": {
        "id": "VkXo5WekplkW"
      },
      "source": [
        "def predict_and_impute(model, dataloader, miss_rate, criterion, device = device):\n",
        "    model.to(device)\n",
        "    model.eval()\n",
        "    prediction_list = []\n",
        "    actual_value = []\n",
        "    total_pred_loss = 0\n",
        "    total_imputation_loss = 0\n",
        "    with torch.no_grad():\n",
        "      for data in (dataloader):\n",
        "        input = data[0].to(device)\n",
        "        label = data[1].to(device)\n",
        "        yhat, seq_preds, comp_x_vals, num_imp = model(input, miss_rate)\n",
        "        prediction_list.append(yhat.squeeze(-1))\n",
        "        actual_value.append(label)\n",
        "        loss1 = criterion(label,yhat)\n",
        "        loss2 = criterion(seq_preds, comp_x_vals)/num_imp\n",
        "        total_pred_loss += loss1 \n",
        "        total_imputation_loss += loss2\n",
        "    return prediction_list, actual_value, total_pred_loss, total_imputation_loss"
      ],
      "execution_count": 21,
      "outputs": []
    },
    {
      "cell_type": "code",
      "metadata": {
        "id": "JXXviUScbMN7"
      },
      "source": [
        "criterion = nn.MSELoss()\n",
        "batch_size=64 #128\n",
        "test_loader = DataLoader(TensorDataset(datamodule.test_data[0],datamodule.test_data[1]), batch_size=batch_size*10)"
      ],
      "execution_count": 23,
      "outputs": []
    },
    {
      "cell_type": "code",
      "metadata": {
        "id": "i0Q5LA3UZELw"
      },
      "source": [
        "def mse_with_missing_data(model, test_loeader, criterion):\n",
        "  missing_ratios = [0,0.02,0.05,0.1,0.2,0.5]\n",
        "  test_losses = []\n",
        "  imp_loss = []\n",
        "  yhats = []\n",
        "  ys = []\n",
        "  for ratio in missing_ratios:\n",
        "    yhat1,y1,loss1,loss2 = predict_and_impute(model, test_loader, ratio, criterion)\n",
        "    test_losses.append(loss1.cpu())\n",
        "    yhats.append(yhat1)\n",
        "    ys.append(y1)\n",
        "    imp_loss.append(loss2)\n",
        "  print('MSE losses:\\n0%:', test_losses[0].numpy(),'\\n2%:',test_losses[1].numpy(), '\\n5%:',test_losses[2].numpy(), '\\n10%:',test_losses[3].numpy(), '\\n20%:',test_losses[4].numpy(), '\\n50%:', test_losses[5].numpy())\n",
        "  return test_losses, yhats"
      ],
      "execution_count": 46,
      "outputs": []
    },
    {
      "cell_type": "code",
      "metadata": {
        "colab": {
          "base_uri": "https://localhost:8080/"
        },
        "id": "QoYyCV1wZqLB",
        "outputId": "cf23e146-c147-48b3-a3c0-c18ecfc38cc3"
      },
      "source": [
        "mses, yhats = mse_with_missing_data(model, test_loader, criterion)\n"
      ],
      "execution_count": 47,
      "outputs": [
        {
          "output_type": "stream",
          "text": [
            "MSE losses:\n",
            "0%: 0.5113129 \n",
            "2%: 0.51919496 \n",
            "5%: 0.53193486 \n",
            "10%: 0.5387821 \n",
            "20%: 0.5899803 \n",
            "50%: 0.70956576\n"
          ],
          "name": "stdout"
        }
      ]
    },
    {
      "cell_type": "markdown",
      "metadata": {
        "id": "BYA6HKMa4Dve"
      },
      "source": [
        "# Calculate the backscaled losses to compare with sarima model: "
      ]
    },
    {
      "cell_type": "code",
      "metadata": {
        "id": "uDUNiHh408kx"
      },
      "source": [
        "test_data = sarima[-5:]\n",
        "test_data_noindex = test_data.reset_index()\n",
        "test_data=test_data_noindex.drop(['index'], axis=1)\n",
        "test_data_flattened = []\n",
        "for i in range(len(columns)):\n",
        "  test_data_flattened.append(test_data[columns[i]].tolist())\n",
        "  #flatten to plot\n",
        "test_data_flattened = sum(test_data_flattened,[])"
      ],
      "execution_count": 29,
      "outputs": []
    },
    {
      "cell_type": "code",
      "metadata": {
        "colab": {
          "base_uri": "https://localhost:8080/",
          "height": 282
        },
        "id": "fd5QcK-V217m",
        "outputId": "cb076d94-5039-4f68-aa41-07b196abbc4c"
      },
      "source": [
        "plt.plot(test_data_flattened)"
      ],
      "execution_count": 30,
      "outputs": [
        {
          "output_type": "execute_result",
          "data": {
            "text/plain": [
              "[<matplotlib.lines.Line2D at 0x7f559a822ad0>]"
            ]
          },
          "metadata": {
            "tags": []
          },
          "execution_count": 30
        },
        {
          "output_type": "display_data",
          "data": {
            "image/png": "[encoded data removed]",
            "text/plain": [
              "<Figure size 432x288 with 1 Axes>"
            ]
          },
          "metadata": {
            "tags": [],
            "needs_background": "light"
          }
        }
      ]
    },
    {
      "cell_type": "code",
      "metadata": {
        "id": "jrBqczXH2-Tt"
      },
      "source": [
        "yhat_backscaled = datamodule.scaler.inverse_transform(np.array(yhats[5][0].cpu()).reshape(-1,1))"
      ],
      "execution_count": 80,
      "outputs": []
    },
    {
      "cell_type": "code",
      "metadata": {
        "colab": {
          "base_uri": "https://localhost:8080/",
          "height": 282
        },
        "id": "emZSKdfn3mX7",
        "outputId": "bc8875c2-2c32-481d-dc1c-39e3bae91929"
      },
      "source": [
        "plt.plot(test_data_flattened[0:10], label='true')\n",
        "plt.plot(yhat_backscaled[0:10], label='predicted')\n",
        "plt.legend()"
      ],
      "execution_count": 90,
      "outputs": [
        {
          "output_type": "execute_result",
          "data": {
            "text/plain": [
              "<matplotlib.legend.Legend at 0x7f559963eb90>"
            ]
          },
          "metadata": {
            "tags": []
          },
          "execution_count": 90
        },
        {
          "output_type": "display_data",
          "data": {
            "image/png": "[encoded data removed]",
            "text/plain": [
              "<Figure size 432x288 with 1 Axes>"
            ]
          },
          "metadata": {
            "tags": [],
            "needs_background": "light"
          }
        }
      ]
    },
    {
      "cell_type": "code",
      "metadata": {
        "colab": {
          "base_uri": "https://localhost:8080/"
        },
        "id": "Q86wz3nb3Hdb",
        "outputId": "1140c25c-18da-483b-dfc0-ccc9d07e3e43"
      },
      "source": [
        "mse = sklearn.metrics.mean_squared_error(yhat_backscaled,test_data_flattened)\n",
        "print(mse)"
      ],
      "execution_count": 82,
      "outputs": [
        {
          "output_type": "stream",
          "text": [
            "6297431.154910011\n"
          ],
          "name": "stdout"
        }
      ]
    },
    {
      "cell_type": "markdown",
      "metadata": {
        "id": "ZWRbh9Wo5IWi"
      },
      "source": [
        "## Two hidden layers of size 100 for sarima data: "
      ]
    },
    {
      "cell_type": "code",
      "metadata": {
        "colab": {
          "base_uri": "https://localhost:8080/"
        },
        "id": "hWZdqnfB3vkZ",
        "outputId": "14ceaf9b-200c-4364-f51d-8cea6d03c706"
      },
      "source": [
        "missing_ratios = [0, 0.02 ,0.05, 0.1, 0.2, 0.5]\n",
        "mse_alpha002 = [6150982.367957313, 6160276.07230986, 6160598.426798089, 6174782.349959003, 6192916.742011066, 6280789.30599632]\n",
        "mse_alpha120 = [6147059.520201462, 6152927.692458773, 6159454.555190967, 6166726.314141403, 6190783.197176749, 6297431.154910011]"
      ],
      "execution_count": 40,
      "outputs": [
        {
          "output_type": "stream",
          "text": [
            "6150982.367957313\n"
          ],
          "name": "stdout"
        }
      ]
    }
  ]
}